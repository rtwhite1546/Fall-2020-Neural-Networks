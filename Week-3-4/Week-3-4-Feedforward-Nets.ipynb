{
 "cells": [
  {
   "cell_type": "markdown",
   "metadata": {},
   "source": [
    "# Feedforward Neural Networks\n",
    "\n",
    "This week, we will introduce (artificial) neural networks, which are machine learning methods that draw inspiration from biological nervous systems where huge numbers of interconnected neurons (nerve cells) send electricalchemical signals, frequently in response to external stimuli, to one another throughout the body and within the brain.\n",
    "\n",
    "Neural networks excel at machine learning tasks when large amounts of data is available (thousands of datapoints). We will, for now, focus on the applications of neural networks to classification and regression problems.\n",
    "\n",
    "This week's notes will be mostly dedicated sharing my code with you because we will primarily be studying from <a href=\"http://neuralnetworksanddeeplearning.com/\">*Neural Networks and Deep Learning*</a> by Michael Nielsen. This <a href=\"https://www.youtube.com/playlist?list=PLZHQObOWTQDNU6R1_67000Dx_ZCJB-3pi\">playlist of YouTube videos</a> is based on Nielsen's book and is pretty amazing for explaining this content as well. I cannot recommend it enough!\n",
    "\n",
    "<a href=\"https://github.com/mnielsen/neural-networks-and-deep-learning\">Nielsen's code</a> is written in Python 2.7, so I would not recommend using his code, but Michal Daniel Dobrzanski provides <a href=\"https://github.com/MichalDanielDobrzanski/DeepLearningPython35\">updated code</a> in Python 3.5.\n",
    "\n",
    "## Perceptrons\n",
    "\n",
    "Refer to my PDF notes for details, but we will write some code for Perceptrons below. First, we import numpy."
   ]
  },
  {
   "cell_type": "code",
   "execution_count": 3,
   "metadata": {},
   "outputs": [],
   "source": [
    "import numpy as np\n",
    "import matplotlib.pyplot as plt\n",
    "from sklearn.model_selection import train_test_split\n",
    "from sklearn.metrics import classification_report"
   ]
  },
  {
   "cell_type": "code",
   "execution_count": 4,
   "metadata": {},
   "outputs": [],
   "source": [
    "class Perceptron:\n",
    "    \n",
    "    def __init__(self, N, alpha = 0.1):\n",
    "        # initialize the weights randomly and learning rate\n",
    "        self.W = np.random.randn(N + 1)\n",
    "        self.alpha = alpha\n",
    "        \n",
    "    def fit(self, X, y, epochs = 10):\n",
    "        # insert a column of 1s at the end of X\n",
    "        X = np.hstack((X, np.ones([X.shape[0], 1])))\n",
    "        \n",
    "        for epoch in range(epochs):\n",
    "            # do the dot product between w and x\n",
    "            for (x, target) in zip(X,y):\n",
    "                \n",
    "                dotProduct = np.dot(x, self.W)\n",
    "                \n",
    "                if dotProduct < 0 and target == 1:\n",
    "                    self.W += self.alpha*x\n",
    "                \n",
    "                if dotProduct >= 0 and target == 0:\n",
    "                    self.W -= self.alpha*x\n",
    "                    \n",
    "    def predict(self, X):\n",
    "        X = np.hstack((X, np.ones([X.shape[0], 1])))\n",
    "        \n",
    "        predictedY = np.zeros([X.shape[0], 1])\n",
    "        \n",
    "        for counter in range(X.shape[0]):\n",
    "            dotProduct = np.dot(X[counter,], self.W)\n",
    "            \n",
    "            if dotProduct < 0:\n",
    "                predictedY[counter] = 0\n",
    "            \n",
    "            else:\n",
    "                predictedY[counter] = 1\n",
    "                \n",
    "        return predictedY"
   ]
  },
  {
   "cell_type": "markdown",
   "metadata": {},
   "source": [
    "### Example: OR function"
   ]
  },
  {
   "cell_type": "code",
   "execution_count": 5,
   "metadata": {},
   "outputs": [
    {
     "name": "stdout",
     "output_type": "stream",
     "text": [
      "              precision    recall  f1-score   support\n",
      "\n",
      "           0       1.00      1.00      1.00         1\n",
      "           1       1.00      1.00      1.00         3\n",
      "\n",
      "    accuracy                           1.00         4\n",
      "   macro avg       1.00      1.00      1.00         4\n",
      "weighted avg       1.00      1.00      1.00         4\n",
      "\n"
     ]
    }
   ],
   "source": [
    "X = np.array([[0, 0], [0, 1], [1, 0], [1, 1]])\n",
    "y = np.array([[0], [1], [1], [1]])\n",
    "\n",
    "model = Perceptron(X.shape[1], alpha=0.1)\n",
    "model.fit(X, y, epochs=100)\n",
    "yPredicted = model.predict(X)\n",
    "\n",
    "print(classification_report(y, yPredicted))"
   ]
  },
  {
   "cell_type": "markdown",
   "metadata": {},
   "source": [
    "As we can see, it works perfectly at approximating the OR function since the data is linearly separable.\n",
    "\n",
    "### Example: Random Points"
   ]
  },
  {
   "cell_type": "code",
   "execution_count": 6,
   "metadata": {},
   "outputs": [
    {
     "name": "stdout",
     "output_type": "stream",
     "text": [
      "              precision    recall  f1-score   support\n",
      "\n",
      "           0       0.83      0.74      0.78        27\n",
      "           1       0.73      0.83      0.78        23\n",
      "\n",
      "    accuracy                           0.78        50\n",
      "   macro avg       0.78      0.78      0.78        50\n",
      "weighted avg       0.79      0.78      0.78        50\n",
      "\n"
     ]
    },
    {
     "data": {
      "text/plain": [
       "[<matplotlib.lines.Line2D at 0x26cb9372248>]"
      ]
     },
     "execution_count": 6,
     "metadata": {},
     "output_type": "execute_result"
    },
    {
     "data": {
      "image/png": "[encoded data removed]",
      "text/plain": [
       "<Figure size 432x288 with 1 Axes>"
      ]
     },
     "metadata": {
      "needs_background": "light"
     },
     "output_type": "display_data"
    }
   ],
   "source": [
    "# number of points to generate\n",
    "numberOfPoints = 100\n",
    "\n",
    "# generate points from class 0\n",
    "mean1 = np.array([-1, -1])\n",
    "covariance1 = np.array([[5, 0], [0, 5]])\n",
    "X1 = np.random.multivariate_normal(mean1, covariance1, numberOfPoints)\n",
    "\n",
    "# generate points from class 1\n",
    "mean2 = np.array([3, 3])\n",
    "covariance2 = np.array([[5, 3], [3, 5]])\n",
    "X2 = np.random.multivariate_normal(mean2, covariance2, numberOfPoints)\n",
    "\n",
    "# stack the points\n",
    "X = np.vstack((X1, X2))\n",
    "\n",
    "# create a vector of the labels\n",
    "y = np.hstack((numberOfPoints * [0], numberOfPoints * [1]))\n",
    "\n",
    "# train test split\n",
    "(trainX, testX, trainY, testY) = train_test_split(X, y, test_size = 0.25, random_state = 1)\n",
    "\n",
    "# instantiate a model\n",
    "model = Perceptron(2)\n",
    "\n",
    "# fit the model to the training data\n",
    "model.fit(trainX, trainY, epochs = 1000)\n",
    "predictedY = model.predict(testX)\n",
    "\n",
    "print(classification_report(testY, predictedY))\n",
    "\n",
    "# plot the training set\n",
    "plt.scatter(trainX[:,0], trainX[:,1], c = trainY, marker = '.')\n",
    "\n",
    "parameters = model.W\n",
    "\n",
    "xModel = np.linspace(-10, 10, 100)\n",
    "yModel = -parameters[0]/parameters[1]*xModel - parameters[2]/parameters[0]\n",
    "lineFormula = '{:.3f}x_1+{:.3f}x_2+{:.3f}=0'.format(parameters[0], parameters[1], parameters[2])\n",
    "plt.plot(xModel, yModel, 'g', label = lineFormula)"
   ]
  },
  {
   "cell_type": "markdown",
   "metadata": {},
   "source": [
    "In this case, the Perceptron algorithm can achieve decent accuracy on test accuracy at 78%, but the method clearly has its limitations since it can only create a linear decision boundary. It has performed as well as it can under this restriction, but it is typically a poor assumption for practical binary classification problems."
   ]
  },
  {
   "cell_type": "markdown",
   "metadata": {},
   "source": [
    "## Code for Feedforward Neural Networks\n",
    "\n",
    "Let's take it a step forward and write some code for neural networks (to be continued!)\n",
    "\n",
    "There are three main bits of code we need to make neural nets work. Assume that we have a training dataset $X$.\n",
    "\n",
    "1. **Forward pass**: feeds a datapoint into a neural network and processes it by computing the outputs of each layer of artificial neurons until we reach the output layer and compute the loss\n",
    "\n",
    "2. **Stochastic gradient descent (SGD)**: after feeding in some data and computing the loss, we need to adjust the weights in such a way to reduce the loss function (in the opposite direction of the gradient)\n",
    "\n",
    "3. **Backpropagation (Backprop)**: to find gradient formulas, this will use the chain rule in a systematic way to find the gradient of the loss function\n",
    "\n",
    "### The Forward Pass\n",
    "\n",
    "The forward pass is simple, we just follow the simple rules of the individual neurons, but we have to do it **many** times, which we can automate with matrix multiplication (see our notes from class on Sept 3).\n",
    "\n",
    "### Stochastic Gradient Descent\n",
    "\n",
    "We already know what gradient descent is, we run our model on training data, compute the loss function, find the gradient of the loss function (i.e. the derivatives of the loss function with respect to each parameter), and update our parameters in the opposite direction of the gradient by a small amount. The same general approach will be used in most neural networks.\n",
    "\n",
    "In linear models, we compute the outputs and loss function for the entire dataset (usually multiple times) per iteration of gradient descent, make a weight update based on the gradient, and repeat. At the other end of the spectrum, the Perceptron algorithm made a weight update for every single datapoint input.\n",
    "\n",
    "The typical approach in neural networks is **stochastic** gradient descent (SGD). It turns out, computing outputs for the whole dataset or only a single input before making a weight update is expensive, but doing a weight update after each datapoint would be a bad idea because outlier datapoints might have an overly strong pull on parameters. SGD takes a middle path: update weights after processing a random sample, called a **mini-batch**, of datapoints--enough points to reduce the variance of using just one for more stable convergence of parameters, but not so much that the computation is not too expensive. In this way, we process a mini-batch for outputs, compute an approximate loss function and approximate gradients, update weights, and repeat\n",
    "\n",
    "How large should our mini-batches be? Typically, using $2^n$ for something like $n=5, 6, 7, 8$ because these values tend to be ideal for the linear algebra optimization libraries we use (NumPy, TensorFlow, etc). The mini-batch size is a hyperparameter, but it generally isn't one you need to tweak. One exception is if you are using GPUs for computing: then, it's best to choose the largest power of 2 that allows a whole mini-batch to fit into GPU memory.\n",
    "\n",
    "\n",
    "### Backpropagation\n",
    "\n",
    "In the past, we approximated the gradient by computing the loss functions many times, perturbed in each dimension to compute\n",
    "\n",
    "$$\\nabla L(\\beta)\\approx\\left(\\frac{L(\\beta+he_0)-L(\\beta)}{h}, ..., \\frac{L(\\beta+he_d)-L(\\beta)}{h}\\right)$$\n",
    "\n",
    "for some small value $h$, but this meant we had to compute the loss function $d+2$ times for **each** iteration in gradient descent, which required us to compute the outputs of the model for the whole dataset many, many times. This was fine for the linear regression models we have considered, but it would be too computationally expensive to feed the whole dataset through a neural network so many times.\n",
    "\n",
    "As a result, we instead need another method to compute gradients. It turns out, we can systematically apply the chain rule to get formulas for the partial derivatives of the loss function with respect to each weight in the neural network. Backpropagation does just this.\n",
    "\n",
    "### Feedforward Neural Network Class\n",
    "\n",
    "We will write the three parts above as functions within a class for constructing feedforward neural networks.\n",
    "\n",
    "First, import some packages."
   ]
  },
  {
   "cell_type": "code",
   "execution_count": 7,
   "metadata": {},
   "outputs": [],
   "source": [
    "import numpy as np"
   ]
  },
  {
   "cell_type": "markdown",
   "metadata": {},
   "source": [
    "Now, we can write our class."
   ]
  },
  {
   "cell_type": "code",
   "execution_count": 8,
   "metadata": {},
   "outputs": [],
   "source": [
    "class FeedforwardNeuralNetwork:\n",
    "    \n",
    "    # input a vector [a, b, c, ...] with the number of nodes in each layer\n",
    "    def __init__(self, layers, alpha = 0.1):\n",
    "        # list of weight matrices between layers\n",
    "        self.W = []\n",
    "        \n",
    "        # network architecture will be a vector of numbers of nodes for each layer\n",
    "        self.layers = layers\n",
    "        \n",
    "        # learning rate\n",
    "        self.alpha = alpha\n",
    "        \n",
    "        # initialize the weights (randomly) -- this is our initial guess for gradient descent\n",
    "        \n",
    "        # initialize the weights between layers (up to the next-to-last one) as normal random variables\n",
    "        for i in np.arange(0, len(layers) - 2):\n",
    "            self.W.append(np.random.randn(layers[i] + 1, layers[i + 1] + 1))\n",
    "            \n",
    "        # initialize weights between the last two layers (we don't want bias for the last one)\n",
    "        self.W.append(np.random.randn(layers[-2] + 1, layers[-1]))\n",
    "        \n",
    "    # define the sigmoid activation\n",
    "    def sigmoid(self, x):\n",
    "        return 1.0 / (1 + np.exp(-x))\n",
    "    \n",
    "    # define the sigmoid derivative (where z is the output of a sigmoid)\n",
    "    def sigmoidDerivative(self, z):\n",
    "        return z * (1 - z)\n",
    "    \n",
    "    # fit the model\n",
    "    def fit(self, X, y, epochs = 10000, update = 1000):\n",
    "        # add a column of ones to the end of X\n",
    "        X = np.hstack((X, np.ones([X.shape[0],1])))\n",
    "\n",
    "        for epoch in np.arange(0,epochs):\n",
    "\n",
    "            # feed forward, backprop, and weight update\n",
    "            for (x, target) in zip(X, y):\n",
    "                # make a list of output activations from the first layer\n",
    "                # (just the original x values)\n",
    "                A = [np.atleast_2d(x)]\n",
    "                \n",
    "                # feed forward\n",
    "                for layer in np.arange(0, len(self.W)):\n",
    "                    \n",
    "                    # feed through one layer and apply sigmoid activation\n",
    "                    net = A[layer].dot(self.W[layer])\n",
    "                    out = self.sigmoid(net)\n",
    "                    \n",
    "                    # add our network output to the list of activations\n",
    "                    A.append(out)\n",
    "                    \n",
    "                # backpropagation\n",
    "                error = A[-1] - target\n",
    "                \n",
    "                D = [error * self.sigmoidDerivative(A[-1])]\n",
    "                \n",
    "                # loop backwards over the layers to build up deltas\n",
    "                for layer in np.arange(len(A) - 2, 0, -1):\n",
    "                    delta = D[-1].dot(self.W[layer].T)\n",
    "                    delta = delta * self.sigmoidDerivative(A[layer])\n",
    "                    D.append(delta)\n",
    "                    \n",
    "                # reverse the deltas since we looped in reverse\n",
    "                D = D[::-1]\n",
    "                \n",
    "                # weight update\n",
    "                for layer in np.arange(0, len(self.W)):\n",
    "                    self.W[layer] -= self.alpha * A[layer].T.dot(D[layer])\n",
    "                    \n",
    "            if (epoch + 1) % update == 0:\n",
    "                loss = self.computeLoss(X,y)\n",
    "                print(\"[INFO] epoch = {}, loss = {:.6f}\".format(epoch + 1, loss))\n",
    "                \n",
    "    def predict(self, X, addOnes = True):\n",
    "        # initialize data, be sure it's the right dimension\n",
    "        p = np.atleast_2d(X)\n",
    "        \n",
    "        # add a column of 1s for bias\n",
    "        if addOnes:\n",
    "            p = np.hstack((p, np.ones([X.shape[0],1])))\n",
    "        \n",
    "        # feed forward!\n",
    "        for layer in np.arange(0, len(self.W)):\n",
    "            p = self.sigmoid(np.dot(p, self.W[layer]))\n",
    "            \n",
    "        return p\n",
    "    \n",
    "    def computeLoss(self, X, y):\n",
    "        # initialize data, be sure it's the right dimension\n",
    "        y = np.atleast_2d(y)\n",
    "        \n",
    "        # feed the datapoints through the network to get predicted outputs\n",
    "        predictions = self.predict(X, addOnes = False)\n",
    "        loss = np.sum((predictions - y)**2) / 2.0\n",
    "        \n",
    "        return loss"
   ]
  },
  {
   "cell_type": "code",
   "execution_count": 9,
   "metadata": {},
   "outputs": [
    {
     "data": {
      "text/plain": [
       "{'W': [array([[-0.38991208,  1.32529503, -0.59159794],\n",
       "         [ 0.0537628 , -0.42082578,  0.07169667],\n",
       "         [-0.55317831,  0.0992883 ,  0.43780998]]),\n",
       "  array([[ 1.3760365 ],\n",
       "         [-0.79495758],\n",
       "         [-0.08420548]])],\n",
       " 'layers': [2, 2, 1],\n",
       " 'alpha': 0.1}"
      ]
     },
     "execution_count": 9,
     "metadata": {},
     "output_type": "execute_result"
    }
   ],
   "source": [
    "model = FeedforwardNeuralNetwork([2, 2, 1])\n",
    "vars(model)"
   ]
  },
  {
   "cell_type": "markdown",
   "metadata": {},
   "source": [
    "### Example: XOR function\n",
    "\n",
    "Let's run the code to try to learn the XOR function."
   ]
  },
  {
   "cell_type": "code",
   "execution_count": 10,
   "metadata": {},
   "outputs": [
    {
     "name": "stdout",
     "output_type": "stream",
     "text": [
      "[INFO] epoch = 10000, loss = 0.004372\n",
      "[INFO] epoch = 20000, loss = 0.001625\n",
      "[INFO] epoch = 30000, loss = 0.000980\n",
      "[INFO] epoch = 40000, loss = 0.000698\n",
      "[INFO] epoch = 50000, loss = 0.000540\n"
     ]
    }
   ],
   "source": [
    "import random\n",
    "\n",
    "X = np.array([[0, 0], [0, 1], [1, 0], [1, 1]])\n",
    "y = np.array([[0], [1], [1], [0]])\n",
    "\n",
    "random.seed(1)\n",
    "model.fit(X,y,50000,10000)"
   ]
  },
  {
   "cell_type": "code",
   "execution_count": 11,
   "metadata": {},
   "outputs": [
    {
     "data": {
      "text/plain": [
       "array([[0.01352989],\n",
       "       [0.98124415],\n",
       "       [0.98447466],\n",
       "       [0.01745549]])"
      ]
     },
     "execution_count": 11,
     "metadata": {},
     "output_type": "execute_result"
    }
   ],
   "source": [
    "model.predict(X)"
   ]
  },
  {
   "cell_type": "markdown",
   "metadata": {},
   "source": [
    "Note these are very close to 0, 1, 1, 0 -- the correct classifications for the XOR function. This neural net can classify this nonlinear problem of XOR, which the Perceptron could not do."
   ]
  },
  {
   "cell_type": "markdown",
   "metadata": {},
   "source": [
    "### Example: Tiny MNIST"
   ]
  },
  {
   "cell_type": "code",
   "execution_count": 12,
   "metadata": {},
   "outputs": [],
   "source": [
    "# load some more packages\n",
    "from tensorflow.keras.datasets import mnist\n",
    "from sklearn.model_selection import train_test_split\n",
    "from sklearn.metrics import classification_report\n",
    "from sklearn.preprocessing import LabelBinarizer\n",
    "from sklearn import datasets"
   ]
  },
  {
   "cell_type": "markdown",
   "metadata": {},
   "source": [
    "Let's try to classify a tiny version of the MNIST data shrunk down to 8-by-8 pixel images."
   ]
  },
  {
   "cell_type": "code",
   "execution_count": 13,
   "metadata": {},
   "outputs": [
    {
     "name": "stdout",
     "output_type": "stream",
     "text": [
      "Samples: 1797, Dimension: 64\n",
      "[INFO] epoch = 100, loss = 19.832824\n",
      "[INFO] epoch = 200, loss = 15.293100\n",
      "[INFO] epoch = 300, loss = 10.664704\n",
      "[INFO] epoch = 400, loss = 9.386519\n",
      "[INFO] epoch = 500, loss = 8.806930\n",
      "[INFO] epoch = 600, loss = 8.408205\n",
      "[INFO] epoch = 700, loss = 8.144839\n",
      "[INFO] epoch = 800, loss = 7.920782\n",
      "[INFO] epoch = 900, loss = 7.748000\n",
      "[INFO] epoch = 1000, loss = 7.620783\n",
      "Training set accuracy\n",
      "              precision    recall  f1-score   support\n",
      "\n",
      "           0       1.00      1.00      1.00       130\n",
      "           1       0.98      0.99      0.99       130\n",
      "           2       1.00      0.99      1.00       134\n",
      "           3       1.00      1.00      1.00       146\n",
      "           4       0.99      0.99      0.99       136\n",
      "           5       0.99      0.99      0.99       134\n",
      "           6       1.00      1.00      1.00       130\n",
      "           7       1.00      0.99      1.00       126\n",
      "           8       0.97      0.99      0.98       141\n",
      "           9       1.00      0.99      0.99       140\n",
      "\n",
      "    accuracy                           0.99      1347\n",
      "   macro avg       0.99      0.99      0.99      1347\n",
      "weighted avg       0.99      0.99      0.99      1347\n",
      "\n",
      "Test set accuracy\n",
      "              precision    recall  f1-score   support\n",
      "\n",
      "           0       1.00      0.98      0.99        48\n",
      "           1       0.98      0.83      0.90        52\n",
      "           2       0.95      0.98      0.97        43\n",
      "           3       0.89      0.89      0.89        37\n",
      "           4       0.93      0.93      0.93        45\n",
      "           5       0.98      0.96      0.97        48\n",
      "           6       0.96      0.96      0.96        51\n",
      "           7       1.00      0.96      0.98        53\n",
      "           8       0.68      0.97      0.80        33\n",
      "           9       0.95      0.88      0.91        40\n",
      "\n",
      "    accuracy                           0.93       450\n",
      "   macro avg       0.93      0.93      0.93       450\n",
      "weighted avg       0.94      0.93      0.94       450\n",
      "\n"
     ]
    }
   ],
   "source": [
    "### CLASSIFY MNIST PICTURES\n",
    "\n",
    "# 'digits' is a tiny version of MNIST in sklearn.datasets has only 8 x 8 pixels\n",
    "# with grayscale values from 0 to 16\n",
    "digits = datasets.load_digits()\n",
    "data = digits.data.astype(\"float\")\n",
    "print(\"Samples: {}, Dimension: {}\".format(data.shape[0], data.shape[1]))\n",
    "\n",
    "X = data\n",
    "\n",
    "Y = digits.target\n",
    "\n",
    "# randomly choose 75% of the data to be the training set and 25% for the testing set\n",
    "(trainX, testX, trainY, testY) = train_test_split(X, Y, test_size = 0.25)\n",
    "\n",
    "# we need to turn the labels into 1-hot representations\n",
    "trainY = LabelBinarizer().fit_transform(trainY)\n",
    "testY = LabelBinarizer().fit_transform(testY)\n",
    "\n",
    "# fit the model to the training data\n",
    "model = FeedforwardNeuralNetwork([64, 16, 10])\n",
    "model.fit(trainX,trainY,1000,100)\n",
    "\n",
    "# print the classification performance\n",
    "print(\"Training set accuracy\")\n",
    "\n",
    "predictedY = model.predict(trainX)\n",
    "predictedY = predictedY.argmax(axis=1)\n",
    "\n",
    "trainY = trainY.argmax(axis=1)\n",
    "\n",
    "print(classification_report(trainY, predictedY))\n",
    "\n",
    "print(\"Test set accuracy\")\n",
    "\n",
    "predictedY = model.predict(testX)\n",
    "predictedY = predictedY.argmax(axis=1)\n",
    "\n",
    "testY = testY.argmax(axis=1)\n",
    "\n",
    "print(classification_report(testY, predictedY))"
   ]
  },
  {
   "cell_type": "markdown",
   "metadata": {},
   "source": [
    "Let's try the same with two hidden layers."
   ]
  },
  {
   "cell_type": "code",
   "execution_count": 14,
   "metadata": {},
   "outputs": [
    {
     "name": "stdout",
     "output_type": "stream",
     "text": [
      "Samples: 1797, Dimension: 64\n",
      "[INFO] epoch = 10, loss = 106.295932\n",
      "[INFO] epoch = 20, loss = 47.511727\n",
      "[INFO] epoch = 30, loss = 29.678752\n",
      "[INFO] epoch = 40, loss = 21.457581\n",
      "[INFO] epoch = 50, loss = 16.604494\n",
      "[INFO] epoch = 60, loss = 13.165102\n",
      "[INFO] epoch = 70, loss = 11.048393\n",
      "[INFO] epoch = 80, loss = 9.728566\n",
      "[INFO] epoch = 90, loss = 8.795719\n",
      "[INFO] epoch = 100, loss = 8.079752\n",
      "[INFO] epoch = 110, loss = 7.162520\n",
      "[INFO] epoch = 120, loss = 6.405322\n",
      "[INFO] epoch = 130, loss = 6.022470\n",
      "[INFO] epoch = 140, loss = 5.738313\n",
      "[INFO] epoch = 150, loss = 5.428372\n",
      "[INFO] epoch = 160, loss = 4.931159\n",
      "[INFO] epoch = 170, loss = 4.602481\n",
      "[INFO] epoch = 180, loss = 4.259271\n",
      "[INFO] epoch = 190, loss = 4.000888\n",
      "[INFO] epoch = 200, loss = 3.799291\n",
      "[INFO] epoch = 210, loss = 3.644610\n",
      "[INFO] epoch = 220, loss = 3.518565\n",
      "[INFO] epoch = 230, loss = 3.399609\n",
      "[INFO] epoch = 240, loss = 3.232014\n",
      "[INFO] epoch = 250, loss = 3.023988\n",
      "[INFO] epoch = 260, loss = 2.887872\n",
      "[INFO] epoch = 270, loss = 2.794499\n",
      "[INFO] epoch = 280, loss = 2.721399\n",
      "[INFO] epoch = 290, loss = 2.655396\n",
      "[INFO] epoch = 300, loss = 2.586358\n",
      "[INFO] epoch = 310, loss = 2.500446\n",
      "[INFO] epoch = 320, loss = 2.387398\n",
      "[INFO] epoch = 330, loss = 2.274385\n",
      "[INFO] epoch = 340, loss = 2.188631\n",
      "[INFO] epoch = 350, loss = 2.125759\n",
      "[INFO] epoch = 360, loss = 2.078898\n",
      "[INFO] epoch = 370, loss = 2.041976\n",
      "[INFO] epoch = 380, loss = 2.011383\n",
      "[INFO] epoch = 390, loss = 1.985159\n",
      "[INFO] epoch = 400, loss = 1.962168\n",
      "[INFO] epoch = 410, loss = 1.941695\n",
      "[INFO] epoch = 420, loss = 1.923253\n",
      "[INFO] epoch = 430, loss = 1.906493\n",
      "[INFO] epoch = 440, loss = 1.891155\n",
      "[INFO] epoch = 450, loss = 1.877036\n",
      "[INFO] epoch = 460, loss = 1.863977\n",
      "[INFO] epoch = 470, loss = 1.851847\n",
      "[INFO] epoch = 480, loss = 1.840539\n",
      "[INFO] epoch = 490, loss = 1.829965\n",
      "[INFO] epoch = 500, loss = 1.820048\n",
      "[INFO] epoch = 510, loss = 1.810724\n",
      "[INFO] epoch = 520, loss = 1.801937\n",
      "[INFO] epoch = 530, loss = 1.793639\n",
      "[INFO] epoch = 540, loss = 1.785788\n",
      "[INFO] epoch = 550, loss = 1.778345\n",
      "[INFO] epoch = 560, loss = 1.771280\n",
      "[INFO] epoch = 570, loss = 1.764561\n",
      "[INFO] epoch = 580, loss = 1.758163\n",
      "[INFO] epoch = 590, loss = 1.752063\n",
      "[INFO] epoch = 600, loss = 1.746239\n",
      "[INFO] epoch = 610, loss = 1.740672\n",
      "[INFO] epoch = 620, loss = 1.735346\n",
      "[INFO] epoch = 630, loss = 1.730243\n",
      "[INFO] epoch = 640, loss = 1.725351\n",
      "[INFO] epoch = 650, loss = 1.720655\n",
      "[INFO] epoch = 660, loss = 1.716145\n",
      "[INFO] epoch = 670, loss = 1.711808\n",
      "[INFO] epoch = 680, loss = 1.707635\n",
      "[INFO] epoch = 690, loss = 1.703616\n",
      "[INFO] epoch = 700, loss = 1.699743\n",
      "[INFO] epoch = 710, loss = 1.696008\n",
      "[INFO] epoch = 720, loss = 1.692403\n",
      "[INFO] epoch = 730, loss = 1.688921\n",
      "[INFO] epoch = 740, loss = 1.685556\n",
      "[INFO] epoch = 750, loss = 1.682302\n",
      "[INFO] epoch = 760, loss = 1.679154\n",
      "[INFO] epoch = 770, loss = 1.676105\n",
      "[INFO] epoch = 780, loss = 1.673152\n",
      "[INFO] epoch = 790, loss = 1.670289\n",
      "[INFO] epoch = 800, loss = 1.667513\n",
      "[INFO] epoch = 810, loss = 1.664818\n",
      "[INFO] epoch = 820, loss = 1.662202\n",
      "[INFO] epoch = 830, loss = 1.659660\n",
      "[INFO] epoch = 840, loss = 1.657190\n",
      "[INFO] epoch = 850, loss = 1.654787\n",
      "[INFO] epoch = 860, loss = 1.652448\n",
      "[INFO] epoch = 870, loss = 1.650172\n",
      "[INFO] epoch = 880, loss = 1.647954\n",
      "[INFO] epoch = 890, loss = 1.645791\n",
      "[INFO] epoch = 900, loss = 1.643682\n",
      "[INFO] epoch = 910, loss = 1.641623\n",
      "[INFO] epoch = 920, loss = 1.639612\n",
      "[INFO] epoch = 930, loss = 1.637645\n",
      "[INFO] epoch = 940, loss = 1.635721\n",
      "[INFO] epoch = 950, loss = 1.633835\n",
      "[INFO] epoch = 960, loss = 1.631986\n",
      "[INFO] epoch = 970, loss = 1.630170\n",
      "[INFO] epoch = 980, loss = 1.628383\n",
      "[INFO] epoch = 990, loss = 1.626621\n",
      "[INFO] epoch = 1000, loss = 1.624879\n",
      "Training set accuracy\n",
      "              precision    recall  f1-score   support\n",
      "\n",
      "           0       1.00      1.00      1.00       133\n",
      "           1       0.99      1.00      1.00       138\n",
      "           2       1.00      1.00      1.00       136\n",
      "           3       1.00      1.00      1.00       138\n",
      "           4       1.00      0.98      0.99       138\n",
      "           5       0.99      1.00      1.00       140\n",
      "           6       1.00      1.00      1.00       132\n",
      "           7       1.00      1.00      1.00       134\n",
      "           8       0.99      1.00      1.00       123\n",
      "           9       1.00      1.00      1.00       135\n",
      "\n",
      "    accuracy                           1.00      1347\n",
      "   macro avg       1.00      1.00      1.00      1347\n",
      "weighted avg       1.00      1.00      1.00      1347\n",
      "\n",
      "Test set accuracy\n",
      "              precision    recall  f1-score   support\n",
      "\n",
      "           0       1.00      1.00      1.00        45\n",
      "           1       0.98      0.98      0.98        44\n",
      "           2       0.97      0.95      0.96        41\n",
      "           3       0.91      0.96      0.93        45\n",
      "           4       1.00      1.00      1.00        43\n",
      "           5       0.98      0.98      0.98        42\n",
      "           6       1.00      0.98      0.99        49\n",
      "           7       0.96      1.00      0.98        45\n",
      "           8       0.92      0.94      0.93        51\n",
      "           9       0.98      0.91      0.94        45\n",
      "\n",
      "    accuracy                           0.97       450\n",
      "   macro avg       0.97      0.97      0.97       450\n",
      "weighted avg       0.97      0.97      0.97       450\n",
      "\n"
     ]
    }
   ],
   "source": [
    "### CLASSIFY MNIST PICTURES\n",
    "\n",
    "# 'digits' is a tiny version of MNIST in sklearn.datasets has only 8 x 8 pixels\n",
    "# with grayscale values from 0 to 16\n",
    "digits = datasets.load_digits()\n",
    "data = digits.data.astype(\"float\")\n",
    "print(\"Samples: {}, Dimension: {}\".format(data.shape[0], data.shape[1]))\n",
    "\n",
    "X = data/16.0\n",
    "\n",
    "Y = digits.target\n",
    "\n",
    "# randomly choose 75% of the data to be the training set and 25% for the testing set\n",
    "(trainX, testX, trainY, testY) = train_test_split(X, Y, test_size = 0.25)\n",
    "\n",
    "# we need to turn the labels into 1-hot representations\n",
    "trainY = LabelBinarizer().fit_transform(trainY)\n",
    "testY = LabelBinarizer().fit_transform(testY)\n",
    "\n",
    "# fit the model to the training data\n",
    "model = FeedforwardNeuralNetwork([64, 32, 16, 10])\n",
    "model.fit(trainX,trainY,1000,10)\n",
    "\n",
    "# print the classification performance\n",
    "print(\"Training set accuracy\")\n",
    "\n",
    "predictedY = model.predict(trainX)\n",
    "predictedY = predictedY.argmax(axis=1)\n",
    "\n",
    "trainY = trainY.argmax(axis=1)\n",
    "\n",
    "print(classification_report(trainY, predictedY))\n",
    "\n",
    "print(\"Test set accuracy\")\n",
    "\n",
    "predictedY = model.predict(testX)\n",
    "predictedY = predictedY.argmax(axis=1)\n",
    "\n",
    "testY = testY.argmax(axis=1)\n",
    "\n",
    "print(classification_report(testY, predictedY))"
   ]
  },
  {
   "cell_type": "markdown",
   "metadata": {},
   "source": [
    "Almost all test images were labeled correctly, 97%! But let's take a look at the ones that were labeled wrong. Most look a bit ambiguous or messy, so it's not that surprising they were not classified correctly."
   ]
  },
  {
   "cell_type": "code",
   "execution_count": 15,
   "metadata": {},
   "outputs": [
    {
     "name": "stdout",
     "output_type": "stream",
     "text": [
      "4\n",
      "The correct label is 9\n",
      "The predicted label is 3\n",
      "21\n",
      "The correct label is 3\n",
      "The predicted label is 9\n",
      "96\n",
      "The correct label is 9\n",
      "The predicted label is 8\n",
      "132\n",
      "The correct label is 6\n",
      "The predicted label is 2\n",
      "160\n",
      "The correct label is 8\n",
      "The predicted label is 1\n",
      "179\n",
      "The correct label is 9\n",
      "The predicted label is 7\n",
      "241\n",
      "The correct label is 2\n",
      "The predicted label is 3\n",
      "257\n",
      "The correct label is 2\n",
      "The predicted label is 3\n",
      "267\n",
      "The correct label is 1\n",
      "The predicted label is 5\n",
      "290\n",
      "The correct label is 3\n",
      "The predicted label is 8\n",
      "307\n",
      "The correct label is 8\n",
      "The predicted label is 7\n",
      "318\n",
      "The correct label is 9\n",
      "The predicted label is 8\n",
      "351\n",
      "The correct label is 5\n",
      "The predicted label is 8\n",
      "356\n",
      "The correct label is 8\n",
      "The predicted label is 3\n"
     ]
    },
    {
     "data": {
      "image/png": "[encoded data removed]",
      "text/plain": [
       "<Figure size 288x288 with 1 Axes>"
      ]
     },
     "metadata": {
      "needs_background": "light"
     },
     "output_type": "display_data"
    },
    {
     "data": {
      "image/png": "[encoded data removed]",
      "text/plain": [
       "<Figure size 288x288 with 1 Axes>"
      ]
     },
     "metadata": {
      "needs_background": "light"
     },
     "output_type": "display_data"
    },
    {
     "data": {
      "image/png": "[encoded data removed]",
      "text/plain": [
       "<Figure size 288x288 with 1 Axes>"
      ]
     },
     "metadata": {
      "needs_background": "light"
     },
     "output_type": "display_data"
    },
    {
     "data": {
      "image/png": "[encoded data removed]",
      "text/plain": [
       "<Figure size 288x288 with 1 Axes>"
      ]
     },
     "metadata": {
      "needs_background": "light"
     },
     "output_type": "display_data"
    },
    {
     "data": {
      "image/png": "[encoded data removed]",
      "text/plain": [
       "<Figure size 288x288 with 1 Axes>"
      ]
     },
     "metadata": {
      "needs_background": "light"
     },
     "output_type": "display_data"
    },
    {
     "data": {
      "image/png": "[encoded data removed]",
      "text/plain": [
       "<Figure size 288x288 with 1 Axes>"
      ]
     },
     "metadata": {
      "needs_background": "light"
     },
     "output_type": "display_data"
    },
    {
     "data": {
      "image/png": "[encoded data removed]",
      "text/plain": [
       "<Figure size 288x288 with 1 Axes>"
      ]
     },
     "metadata": {
      "needs_background": "light"
     },
     "output_type": "display_data"
    },
    {
     "data": {
      "image/png": "[encoded data removed]",
      "text/plain": [
       "<Figure size 288x288 with 1 Axes>"
      ]
     },
     "metadata": {
      "needs_background": "light"
     },
     "output_type": "display_data"
    },
    {
     "data": {
      "image/png": "[encoded data removed]",
      "text/plain": [
       "<Figure size 288x288 with 1 Axes>"
      ]
     },
     "metadata": {
      "needs_background": "light"
     },
     "output_type": "display_data"
    },
    {
     "data": {
      "image/png": "[encoded data removed]",
      "text/plain": [
       "<Figure size 288x288 with 1 Axes>"
      ]
     },
     "metadata": {
      "needs_background": "light"
     },
     "output_type": "display_data"
    },
    {
     "data": {
      "image/png": "[encoded data removed]",
      "text/plain": [
       "<Figure size 288x288 with 1 Axes>"
      ]
     },
     "metadata": {
      "needs_background": "light"
     },
     "output_type": "display_data"
    },
    {
     "data": {
      "image/png": "[encoded data removed]",
      "text/plain": [
       "<Figure size 288x288 with 1 Axes>"
      ]
     },
     "metadata": {
      "needs_background": "light"
     },
     "output_type": "display_data"
    },
    {
     "data": {
      "image/png": "[encoded data removed]",
      "text/plain": [
       "<Figure size 288x288 with 1 Axes>"
      ]
     },
     "metadata": {
      "needs_background": "light"
     },
     "output_type": "display_data"
    },
    {
     "data": {
      "image/png": "[encoded data removed]",
      "text/plain": [
       "<Figure size 288x288 with 1 Axes>"
      ]
     },
     "metadata": {
      "needs_background": "light"
     },
     "output_type": "display_data"
    }
   ],
   "source": [
    "import matplotlib.pyplot as plt\n",
    "\n",
    "for i in range(testX.shape[0]):\n",
    "    if testY[i] != predictedY[i]:\n",
    "        print(i)\n",
    "        print('The correct label is', testY[i])\n",
    "        print('The predicted label is', predictedY[i])\n",
    "        plt.matshow(16*testX[i].reshape(8,8), cmap='gray_r')"
   ]
  },
  {
   "cell_type": "markdown",
   "metadata": {},
   "source": [
    "### Example: Full-Size MNIST"
   ]
  },
  {
   "cell_type": "code",
   "execution_count": 16,
   "metadata": {},
   "outputs": [
    {
     "name": "stdout",
     "output_type": "stream",
     "text": [
      "[INFO] epoch = 100, loss = 13.848518\n",
      "[INFO] epoch = 200, loss = 11.653992\n",
      "[INFO] epoch = 300, loss = 10.861223\n",
      "[INFO] epoch = 400, loss = 9.788515\n",
      "[INFO] epoch = 500, loss = 9.650853\n",
      "[INFO] epoch = 600, loss = 8.223326\n",
      "[INFO] epoch = 700, loss = 8.140604\n",
      "[INFO] epoch = 800, loss = 8.112920\n",
      "[INFO] epoch = 900, loss = 7.601556\n",
      "[INFO] epoch = 1000, loss = 7.586467\n",
      "Training set accuracy\n",
      "              precision    recall  f1-score   support\n",
      "\n",
      "           0       0.96      1.00      0.98        71\n",
      "           1       0.98      1.00      0.99        85\n",
      "           2       0.99      0.97      0.98        76\n",
      "           3       0.96      1.00      0.98        71\n",
      "           4       1.00      0.97      0.99        80\n",
      "           5       0.99      0.99      0.99        74\n",
      "           6       0.99      0.97      0.98        70\n",
      "           7       0.99      1.00      0.99        84\n",
      "           8       0.98      0.93      0.95        68\n",
      "           9       0.97      0.96      0.96        71\n",
      "\n",
      "    accuracy                           0.98       750\n",
      "   macro avg       0.98      0.98      0.98       750\n",
      "weighted avg       0.98      0.98      0.98       750\n",
      "\n",
      "Test set accuracy\n",
      "              precision    recall  f1-score   support\n",
      "\n",
      "           0       0.93      1.00      0.96        26\n",
      "           1       0.97      0.94      0.95        31\n",
      "           2       0.71      0.87      0.78        23\n",
      "           3       0.79      0.86      0.83        22\n",
      "           4       0.84      0.84      0.84        25\n",
      "           5       0.75      0.67      0.71        18\n",
      "           6       0.96      0.92      0.94        24\n",
      "           7       0.89      0.94      0.91        33\n",
      "           8       0.89      0.84      0.86        19\n",
      "           9       0.83      0.66      0.73        29\n",
      "\n",
      "    accuracy                           0.86       250\n",
      "   macro avg       0.85      0.85      0.85       250\n",
      "weighted avg       0.86      0.86      0.86       250\n",
      "\n"
     ]
    }
   ],
   "source": [
    "### CLASSIFY MNIST PICTURES\n",
    "\n",
    "# create a dataset of 1000 MNIST images, reshaped as single vectors, and labels\n",
    "data = mnist.load_data()\n",
    "\n",
    "# The datapoints are in mnistData[0][0]\n",
    "X = data[0][0][:1000].reshape([1000,28*28])\n",
    "X = X/255.0\n",
    "\n",
    "# The labels are in mnistData[0][1]\n",
    "Y = data[0][1][:1000]\n",
    "\n",
    "# randomly choose 75% of the data to be the training set and 25% for the testing set\n",
    "(trainX, testX, trainY, testY) = train_test_split(X, Y, test_size = 0.25)\n",
    "\n",
    "trainY = LabelBinarizer().fit_transform(trainY)\n",
    "testY = LabelBinarizer().fit_transform(testY)\n",
    "\n",
    "# fit the model to the training data\n",
    "model = FeedforwardNeuralNetwork([784, 16, 10], 0.5)\n",
    "model.fit(trainX,trainY,1000,100)\n",
    "\n",
    "# print the classification performance\n",
    "print(\"Training set accuracy\")\n",
    "predictedY = model.predict(trainX)\n",
    "predictedY = predictedY.argmax(axis=1)\n",
    "\n",
    "trainY = trainY.argmax(axis=1)\n",
    "print(classification_report(trainY, predictedY))\n",
    "\n",
    "print(\"Test set accuracy\")\n",
    "predictedY = model.predict(testX)\n",
    "predictedY = predictedY.argmax(axis=1)\n",
    "\n",
    "testY = testY.argmax(axis=1)\n",
    "print(classification_report(testY, predictedY))"
   ]
  },
  {
   "cell_type": "markdown",
   "metadata": {},
   "source": [
    "Here, we have an **overfitting** problem because the training accuracy is good, but test accuracy is significantly worse. This frequently happens when we use a small dataset. In this case, we used only 1000 images, but it still took a several minutes to run. If we used 10000 images, which would be a more ideal dataset, it would take 30-40 minutes! This is no good..."
   ]
  }
 ],
 "metadata": {
  "kernelspec": {
   "display_name": "Python 3.7 (DL)",
   "language": "python",
   "name": "dl"
  },
  "language_info": {
   "codemirror_mode": {
    "name": "ipython",
    "version": 3
   },
   "file_extension": ".py",
   "mimetype": "text/x-python",
   "name": "python",
   "nbconvert_exporter": "python",
   "pygments_lexer": "ipython3",
   "version": "3.7.7"
  }
 },
 "nbformat": 4,
 "nbformat_minor": 4
}
