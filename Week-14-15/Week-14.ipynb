{
 "cells": [
  {
   "cell_type": "markdown",
   "metadata": {},
   "source": [
    "# Recurrent Neural Networks\n",
    "\n",
    "Recurrent neural networks are simply networks that can have connections going backward in the network, unlike the nets we have seen so far.\n",
    "\n",
    "Here, we introduce an idea of timesteps where we input a datapoint to the net at each timestep. As a datapoint passes through an RNN, it will proceed to the output layer but the information being sent through the reverse connections will be fed into the net while the next datapoint is passed through the RNN.\n",
    "\n",
    "## Why Are Backward Connections Useful?\n",
    "\n",
    "The way RNNs operate means the current datapoint will receive information derived from the previous datapoint since weights will persist and feed information into the net as a new datapoint goes through the net.\n",
    "\n",
    "The prior information continues to influence how the net operates because, at a third timestep, the information will continue going through the loops in the network architecture, the same at the fourth step, and so on. Therefore, a fundamental difference between RNNs and the nets we have seen in the past is this persistent \"memory\" of previous datapoints, which allows us to use context of the previous datapoints to make inferences about each datapoint.\n",
    "\n",
    "### Examples\n",
    "\n",
    "If we have a paragraph of text, we could feed it into the net word-by-word and try to classify the whole sequence. It gives us the power of using the *context* built by the other words in the paragraph. Any use of language, such as recognizing spoken words, handwritten text, or sign language, can benefit from this.\n",
    "\n",
    "In addition, in handwriting recognition where we have a whole word of text, certainly knowing some letters in the word can help you figure out an unknown letter in the center. For example, if we have a K, it is very very unlikely the next letter will be a Q in English. For another example, here's a word I wrote:\n",
    "\n",
    "![img](feature.png)\n",
    "\n",
    "Obviously, being an intelligent human, you know the third letter is an 'a' and not a 'u' because \"feuture\" isn't a word and your professor has passable spelling skills. However, looking at that letter in isolation makes its identity totally ambiguous. Letter/digit recognition is the kind of task we have assigned to neural nets before, but RNNs have a more unique ability to read letters one-by-one, and use the past letters to influence later classifications.\n",
    "\n",
    "The commonality in all of these examples is that they all involve making inferences about *sequences* of inputs (letters, words, signs), rather than just individual inputs.\n",
    "\n",
    "Note that we are talking only of new datapoints being influenced by prior datapoints, but we will also learn about bidirectional RNNs, which look both forward and backward in time by distances the net will learn.\n",
    "\n",
    "Of course, CNNs also use local structure within datapoints to make inferences about the whole datapoint too, but we have to specify what size filters and how many filters to use for this. With RNNs, the net will automatically learn to use as much of the past information as it needs to use for a given point.\n",
    "\n",
    "## Training RNNs\n",
    "\n",
    "The most common approach to training RNNs is essentially the same as any other neural net we have seen: stochastic gradient descent and backpropagation. SGD will operate just the same as the other nets. Recall we have used backpropagation to compute exact gradients needed by SGD by systematic use of the chain rule propagating backwards from the loss function to the weights and biases in the network.\n",
    "\n",
    "RNNs present a challenge to this idea--what does it mean to propagate backwards in a net that has loops?! There would be infinite paths the method could take since there are loops it could traverse arbitrarily many times."
   ]
  },
  {
   "cell_type": "markdown",
   "metadata": {},
   "source": [
    "## Sentiment Analysis\n",
    "\n",
    "One area of application of RNNs is in sentiment analysis--attempts to identify the feelings associated with written text. Examples:\n",
    "\n",
    "* Is a review of a product or service or song or movie positive, neutral, or negative?\n",
    "* Was someone happy or sad in describing their day?\n",
    "* Are song lyrics sad or happy or excited?\n",
    "\n",
    "### Movie Reviews\n",
    "\n",
    "Let's see what we can do with movie reviews for an experiment in sentiment analysis. The data comes from the Internet Movie Database (IMBD), provided by\n",
    "\n",
    "* Andrew L. Maas, Raymond E. Daly, Peter T. Pham, Dan Huang, Andrew Y. Ng, and Christopher Potts. (2011). [Learning Word Vectors for Sentiment Analysis](https://ai.stanford.edu/~amaas/papers/wvSent_acl2011.pdf). *The 49th Annual Meeting of the Association for Computational Linguistics (ACL 2011)*.\n",
    "\n",
    "The dataset contains 50,000 reviews (half in a training set, half in a testing set). Each dataset has reviews from disjoint sets of movies, at most 30 per movie. Each review on IMDB includes a rating from 0 to 10, but the data includes only negative reviews ($\\leq 4$ rating) and positive reviews ($\\geq 6$ rating) as the labels for the datapoints.\n",
    "\n",
    "We will use the dataset to try to classify the reviews as positive or negative."
   ]
  },
  {
   "cell_type": "code",
   "execution_count": 1,
   "metadata": {},
   "outputs": [],
   "source": [
    "from tensorflow.keras import Input\n",
    "from tensorflow.keras.layers import Activation\n",
    "from tensorflow.keras.layers import Bidirectional\n",
    "from tensorflow.keras.layers import Conv1D\n",
    "from tensorflow.keras.layers import Dense\n",
    "from tensorflow.keras.layers import Dropout\n",
    "from tensorflow.keras.layers import Embedding\n",
    "from tensorflow.keras.layers import LSTM\n",
    "from tensorflow.keras.layers import MaxPooling1D\n",
    "from tensorflow.keras.layers import SimpleRNN\n",
    "from tensorflow.keras.layers.experimental.preprocessing import TextVectorization\n",
    "from tensorflow.keras.models import Sequential\n",
    "from tensorflow.keras.preprocessing import text_dataset_from_directory\n",
    "from tensorflow.strings import regex_replace\n",
    "\n",
    "import matplotlib.pyplot as plt\n",
    "import numpy as np\n",
    "import os\n",
    "import shutil\n",
    "import zipfile"
   ]
  },
  {
   "cell_type": "code",
   "execution_count": 5,
   "metadata": {},
   "outputs": [],
   "source": [
    "# unzip the imdb dataset\n",
    "with zipfile.ZipFile('../datasets/imdb.zip', 'r') as zip_ref:\n",
    "    zip_ref.extractall('../datasets/imdb/')"
   ]
  },
  {
   "cell_type": "code",
   "execution_count": 125,
   "metadata": {},
   "outputs": [
    {
     "name": "stdout",
     "output_type": "stream",
     "text": [
      "Found 25000 files belonging to 2 classes.\n",
      "Found 25000 files belonging to 2 classes.\n"
     ]
    }
   ],
   "source": [
    "# clean the data by removing linebreaks\n",
    "def prepareData(dir):\n",
    "    # read the directory of datapoints and labels into a Dataset object\n",
    "    data = text_dataset_from_directory(dir)\n",
    "    \n",
    "    # replace HTML linebreaks from the text with spaces\n",
    "    return data.map(lambda text, label: (regex_replace(text, '<br />', ' '), label))\n",
    "\n",
    "# read the directory into memory and clean the text\n",
    "trainData = prepareData('../datasets/imdb/train')\n",
    "testData = prepareData('../datasets/imdb/test')"
   ]
  },
  {
   "cell_type": "code",
   "execution_count": 4,
   "metadata": {},
   "outputs": [
    {
     "name": "stdout",
     "output_type": "stream",
     "text": [
      "b'I have watched some pretty poor films in the past, but what the hell were they thinking of when they made this movie. Had the production crew turned into zombies when they came up with the idea of making it, because you sure have to be brain dead to find any enjoyment in it.  I am a fan of most genres and enjoy \"shoot \\'em up\" games, but merging the daft scenes from the game just made this ridiculous and unwatchable.  As most have already said, there was hardly any script and the acting was weak. I won\\'t waste my time describing it.  Anyone who rates this film above 4 has to be part of the production company or Sega, or else they have a very warped concept of entertainment.  I must say, I was more annoyed with the video shop, who gave this a thumbs up, which led me to rent it. Thank god I had a second film to watch to restore some of my faith in movies.  Comic book guy would be right if he said \"Worst movie ever\"!'\n",
      "0\n"
     ]
    }
   ],
   "source": [
    "# randomly print a review and label\n",
    "for text_batch, label_batch in trainData.take(1):\n",
    "    print(text_batch.numpy()[0])\n",
    "    print(label_batch.numpy()[0]) # 0 = negative, 1 = positive"
   ]
  },
  {
   "cell_type": "markdown",
   "metadata": {},
   "source": [
    "Next, we will run some experiments on small, comparable nets of some different types."
   ]
  },
  {
   "cell_type": "markdown",
   "metadata": {},
   "source": [
    "#### Fully-Connected Net Experiments\n",
    "\n",
    "First, we create a layer that will vectorize our text into integer values corresponding to each word. This layer will be used in the upcoming experiments. Running this code block will do some preprocessing to customize the layer to our specific dataset.\n",
    "\n",
    "Then, we continue to build a net with this layer."
   ]
  },
  {
   "cell_type": "code",
   "execution_count": 126,
   "metadata": {},
   "outputs": [
    {
     "name": "stdout",
     "output_type": "stream",
     "text": [
      "Found 25000 files belonging to 2 classes.\n",
      "Found 25000 files belonging to 2 classes.\n"
     ]
    }
   ],
   "source": [
    "# read the directory into memory and clean the text\n",
    "trainData = prepareData('../datasets/imdb/train')\n",
    "testData = prepareData('../datasets/imdb/test')\n",
    "\n",
    "# create a TextVectorization layer to turn input string into a sequence of integers,\n",
    "# each representing one token\n",
    "maxTokens = 1000\n",
    "vectorizeLayer = TextVectorization(max_tokens = maxTokens,\n",
    "                                   output_mode = 'int',\n",
    "                                   output_sequence_length = 100)\n",
    "\n",
    "# adapt() fits the TextVectorization layer to our text dataset. This is when the\n",
    "# max_tokens most common words (i.e. the vocabulary) are selected.\n",
    "trainText = trainData.map(lambda text, label: text)\n",
    "\n",
    "vectorizeLayer.adapt(trainText)\n",
    "\n",
    "model = Sequential()\n",
    "\n",
    "model.add(Input(shape=(1,), dtype = 'string'))\n",
    "\n",
    "# add layer to the model\n",
    "model.add(vectorizeLayer)\n",
    "\n",
    "# add an embedding layer to turn integers into fixed-length vectors\n",
    "model.add(Embedding(maxTokens + 1, 128))\n",
    "\n",
    "# add a dense layer\n",
    "model.add(Dense(64, activation = 'relu'))\n",
    "\n",
    "# add a dense layer\n",
    "model.add(Dense(64, activation = 'relu'))\n",
    "\n",
    "# add softmax classifier\n",
    "model.add(Dense(1, activation = 'sigmoid'))"
   ]
  },
  {
   "cell_type": "code",
   "execution_count": 127,
   "metadata": {},
   "outputs": [
    {
     "name": "stdout",
     "output_type": "stream",
     "text": [
      "Model: \"sequential_40\"\n",
      "_________________________________________________________________\n",
      "Layer (type)                 Output Shape              Param #   \n",
      "=================================================================\n",
      "text_vectorization_5 (TextVe (None, 100)               0         \n",
      "_________________________________________________________________\n",
      "embedding_40 (Embedding)     (None, 100, 128)          128128    \n",
      "_________________________________________________________________\n",
      "dense_76 (Dense)             (None, 100, 64)           8256      \n",
      "_________________________________________________________________\n",
      "dense_77 (Dense)             (None, 100, 64)           4160      \n",
      "_________________________________________________________________\n",
      "dense_78 (Dense)             (None, 100, 1)            65        \n",
      "=================================================================\n",
      "Total params: 140,609\n",
      "Trainable params: 140,609\n",
      "Non-trainable params: 0\n",
      "_________________________________________________________________\n"
     ]
    }
   ],
   "source": [
    "model.compile(optimizer = 'adam', loss = 'binary_crossentropy', metrics = ['accuracy'])\n",
    "model.summary()"
   ]
  },
  {
   "cell_type": "code",
   "execution_count": 128,
   "metadata": {},
   "outputs": [
    {
     "name": "stdout",
     "output_type": "stream",
     "text": [
      "Epoch 1/10\n",
      "782/782 [==============================] - 38s 48ms/step - loss: 0.6884 - accuracy: 0.5285 - val_loss: 0.6856 - val_accuracy: 0.5380\n",
      "Epoch 2/10\n",
      "782/782 [==============================] - 37s 48ms/step - loss: 0.6853 - accuracy: 0.5391 - val_loss: 0.6855 - val_accuracy: 0.5383\n",
      "Epoch 3/10\n",
      "782/782 [==============================] - 37s 48ms/step - loss: 0.6851 - accuracy: 0.5398 - val_loss: 0.6855 - val_accuracy: 0.5384\n",
      "Epoch 4/10\n",
      "782/782 [==============================] - 37s 48ms/step - loss: 0.6853 - accuracy: 0.5400 - val_loss: 0.6855 - val_accuracy: 0.5382\n",
      "Epoch 5/10\n",
      "782/782 [==============================] - 37s 48ms/step - loss: 0.6851 - accuracy: 0.5406 - val_loss: 0.6855 - val_accuracy: 0.5385\n",
      "Epoch 6/10\n",
      "782/782 [==============================] - 37s 48ms/step - loss: 0.6849 - accuracy: 0.5414 - val_loss: 0.6855 - val_accuracy: 0.5384\n",
      "Epoch 7/10\n",
      "782/782 [==============================] - 38s 48ms/step - loss: 0.6850 - accuracy: 0.5406 - val_loss: 0.6855 - val_accuracy: 0.5383\n",
      "Epoch 8/10\n",
      "782/782 [==============================] - 37s 48ms/step - loss: 0.6849 - accuracy: 0.5410 - val_loss: 0.6855 - val_accuracy: 0.5384\n",
      "Epoch 9/10\n",
      "782/782 [==============================] - 37s 47ms/step - loss: 0.6850 - accuracy: 0.5402 - val_loss: 0.6855 - val_accuracy: 0.5383 loss: 0.6850 - accura\n",
      "Epoch 10/10\n",
      "782/782 [==============================] - 38s 48ms/step - loss: 0.6850 - accuracy: 0.5401 - val_loss: 0.6855 - val_accuracy: 0.5383\n"
     ]
    },
    {
     "data": {
      "text/plain": [
       "<matplotlib.legend.Legend at 0x23d49f18f88>"
      ]
     },
     "execution_count": 128,
     "metadata": {},
     "output_type": "execute_result"
    },
    {
     "data": {
      "image/png": "[encoded data removed]",
      "text/plain": [
       "<Figure size 432x288 with 1 Axes>"
      ]
     },
     "metadata": {},
     "output_type": "display_data"
    }
   ],
   "source": [
    "epochs = 10\n",
    "\n",
    "H = model.fit(trainData, validation_data = testData, epochs = epochs)\n",
    "\n",
    "plt.style.use('ggplot')\n",
    "plt.figure()\n",
    "plt.plot(np.arange(0, epochs), H.history['loss'], label = 'train_loss')\n",
    "plt.plot(np.arange(0, epochs), H.history['val_loss'], label = 'val_loss')\n",
    "plt.plot(np.arange(0, epochs), H.history['accuracy'], label = 'train_acc')\n",
    "plt.plot(np.arange(0, epochs), H.history['val_accuracy'], label = 'val_acc')\n",
    "    \n",
    "# add labels and legend\n",
    "plt.title('Training Loss and Accuracy')\n",
    "plt.xlabel('Epoch #')\n",
    "plt.ylabel('Loss/Accuracy')\n",
    "plt.legend()"
   ]
  },
  {
   "cell_type": "code",
   "execution_count": 129,
   "metadata": {},
   "outputs": [
    {
     "name": "stdout",
     "output_type": "stream",
     "text": [
      "782/782 [==============================] - 18s 23ms/step - loss: 0.6855 - accuracy: 0.5383\n"
     ]
    },
    {
     "data": {
      "text/plain": [
       "[0.6855025291442871, 0.5382867455482483]"
      ]
     },
     "execution_count": 129,
     "metadata": {},
     "output_type": "execute_result"
    }
   ],
   "source": [
    "model.evaluate(testData)"
   ]
  },
  {
   "cell_type": "markdown",
   "metadata": {},
   "source": [
    "Our results here, at 54% are only slightly better than randomly guessing, so this net does not seem very useful for this problem. This makes some sense -- why would a fully-connected net that merely looks at individual words really determine if some text is positive or negative?"
   ]
  },
  {
   "cell_type": "markdown",
   "metadata": {},
   "source": [
    "#### Convolutional Net Experiment\n",
    "\n",
    "A convolutional net would look at local structure, so let's try a small CNN."
   ]
  },
  {
   "cell_type": "code",
   "execution_count": 130,
   "metadata": {},
   "outputs": [
    {
     "name": "stdout",
     "output_type": "stream",
     "text": [
      "Found 25000 files belonging to 2 classes.\n",
      "Found 25000 files belonging to 2 classes.\n"
     ]
    }
   ],
   "source": [
    "# read the directory into memory and clean the text\n",
    "trainData = prepareData('../datasets/imdb/train')\n",
    "testData = prepareData('../datasets/imdb/test')\n",
    "\n",
    "# create a TextVectorization layer to turn input string into a sequence of integers,\n",
    "# each representing one token\n",
    "maxTokens = 1000\n",
    "vectorizeLayer = TextVectorization(max_tokens = maxTokens,\n",
    "                                   output_mode = 'int',\n",
    "                                   output_sequence_length = 100)\n",
    "\n",
    "# adapt() fits the TextVectorization layer to our text dataset. This is when the\n",
    "# max_tokens most common words (i.e. the vocabulary) are selected.\n",
    "trainText = trainData.map(lambda text, label: text)\n",
    "\n",
    "vectorizeLayer.adapt(trainText)\n",
    "\n",
    "model = Sequential()\n",
    "\n",
    "model.add(Input(shape=(1,), dtype = 'string'))\n",
    "\n",
    "# add layer to the model\n",
    "model.add(vectorizeLayer)\n",
    "\n",
    "# add an embedding layer to turn integers into fixed-length vectors\n",
    "model.add(Embedding(maxTokens + 1, 128))\n",
    "\n",
    "# add a 1D convolutional layer with 64 filters of length 3\n",
    "model.add(Conv1D(64, 3, padding ='same', activation = 'relu'))\n",
    "\n",
    "# add a dense layer\n",
    "model.add(Dense(64, activation = 'relu'))\n",
    "\n",
    "# add softmax classifier\n",
    "model.add(Dense(1, activation = 'sigmoid'))"
   ]
  },
  {
   "cell_type": "code",
   "execution_count": 131,
   "metadata": {},
   "outputs": [
    {
     "name": "stdout",
     "output_type": "stream",
     "text": [
      "Model: \"sequential_41\"\n",
      "_________________________________________________________________\n",
      "Layer (type)                 Output Shape              Param #   \n",
      "=================================================================\n",
      "text_vectorization_6 (TextVe (None, 100)               0         \n",
      "_________________________________________________________________\n",
      "embedding_41 (Embedding)     (None, 100, 128)          128128    \n",
      "_________________________________________________________________\n",
      "conv1d_36 (Conv1D)           (None, 100, 64)           24640     \n",
      "_________________________________________________________________\n",
      "dense_79 (Dense)             (None, 100, 64)           4160      \n",
      "_________________________________________________________________\n",
      "dense_80 (Dense)             (None, 100, 1)            65        \n",
      "=================================================================\n",
      "Total params: 156,993\n",
      "Trainable params: 156,993\n",
      "Non-trainable params: 0\n",
      "_________________________________________________________________\n"
     ]
    }
   ],
   "source": [
    "model.compile(optimizer = 'adam', loss = 'binary_crossentropy', metrics = ['accuracy'])\n",
    "model.summary()"
   ]
  },
  {
   "cell_type": "code",
   "execution_count": 132,
   "metadata": {},
   "outputs": [
    {
     "name": "stdout",
     "output_type": "stream",
     "text": [
      "Epoch 1/10\n",
      "782/782 [==============================] - 41s 52ms/step - loss: 0.6802 - accuracy: 0.5553 - val_loss: 0.6725 - val_accuracy: 0.5699\n",
      "Epoch 2/10\n",
      "782/782 [==============================] - 41s 52ms/step - loss: 0.6715 - accuracy: 0.5734 - val_loss: 0.6706 - val_accuracy: 0.5733\n",
      "Epoch 3/10\n",
      "782/782 [==============================] - 41s 53ms/step - loss: 0.6690 - accuracy: 0.5782 - val_loss: 0.6700 - val_accuracy: 0.5743\n",
      "Epoch 4/10\n",
      "782/782 [==============================] - 42s 54ms/step - loss: 0.6665 - accuracy: 0.5827 - val_loss: 0.6694 - val_accuracy: 0.5747\n",
      "Epoch 5/10\n",
      "782/782 [==============================] - 43s 55ms/step - loss: 0.6647 - accuracy: 0.5852 - val_loss: 0.6693 - val_accuracy: 0.5751\n",
      "Epoch 6/10\n",
      "782/782 [==============================] - 43s 54ms/step - loss: 0.6634 - accuracy: 0.5867 - val_loss: 0.6696 - val_accuracy: 0.5749\n",
      "Epoch 7/10\n",
      "782/782 [==============================] - 42s 54ms/step - loss: 0.6614 - accuracy: 0.5900 - val_loss: 0.6703 - val_accuracy: 0.5746\n",
      "Epoch 8/10\n",
      "782/782 [==============================] - 41s 53ms/step - loss: 0.6600 - accuracy: 0.5915 - val_loss: 0.6711 - val_accuracy: 0.5736\n",
      "Epoch 9/10\n",
      "782/782 [==============================] - 42s 53ms/step - loss: 0.6586 - accuracy: 0.5932 - val_loss: 0.6709 - val_accuracy: 0.5747\n",
      "Epoch 10/10\n",
      "782/782 [==============================] - 42s 53ms/step - loss: 0.6571 - accuracy: 0.5952 - val_loss: 0.6709 - val_accuracy: 0.5748\n"
     ]
    },
    {
     "data": {
      "text/plain": [
       "<matplotlib.legend.Legend at 0x23d4748e708>"
      ]
     },
     "execution_count": 132,
     "metadata": {},
     "output_type": "execute_result"
    },
    {
     "data": {
      "image/png": "[encoded data removed]",
      "text/plain": [
       "<Figure size 432x288 with 1 Axes>"
      ]
     },
     "metadata": {},
     "output_type": "display_data"
    }
   ],
   "source": [
    "epochs = 10\n",
    "\n",
    "H = model.fit(trainData, validation_data = testData, epochs = epochs)\n",
    "\n",
    "plt.style.use('ggplot')\n",
    "plt.figure()\n",
    "plt.plot(np.arange(0, epochs), H.history['loss'], label = 'train_loss')\n",
    "plt.plot(np.arange(0, epochs), H.history['val_loss'], label = 'val_loss')\n",
    "plt.plot(np.arange(0, epochs), H.history['accuracy'], label = 'train_acc')\n",
    "plt.plot(np.arange(0, epochs), H.history['val_accuracy'], label = 'val_acc')\n",
    "    \n",
    "# add labels and legend\n",
    "plt.title('Training Loss and Accuracy')\n",
    "plt.xlabel('Epoch #')\n",
    "plt.ylabel('Loss/Accuracy')\n",
    "plt.legend()"
   ]
  },
  {
   "cell_type": "code",
   "execution_count": 133,
   "metadata": {},
   "outputs": [
    {
     "name": "stdout",
     "output_type": "stream",
     "text": [
      "782/782 [==============================] - 19s 24ms/step - loss: 0.6709 - accuracy: 0.5748\n"
     ]
    },
    {
     "data": {
      "text/plain": [
       "[0.6709490418434143, 0.5748365521430969]"
      ]
     },
     "execution_count": 133,
     "metadata": {},
     "output_type": "execute_result"
    }
   ],
   "source": [
    "model.evaluate(testData)"
   ]
  },
  {
   "cell_type": "code",
   "execution_count": 134,
   "metadata": {},
   "outputs": [
    {
     "name": "stdout",
     "output_type": "stream",
     "text": [
      "Found 25000 files belonging to 2 classes.\n",
      "Found 25000 files belonging to 2 classes.\n",
      "Filter size is 1\n",
      "Model: \"sequential_42\"\n",
      "_________________________________________________________________\n",
      "Layer (type)                 Output Shape              Param #   \n",
      "=================================================================\n",
      "text_vectorization_7 (TextVe (None, 100)               0         \n",
      "_________________________________________________________________\n",
      "embedding_42 (Embedding)     (None, 100, 128)          128128    \n",
      "_________________________________________________________________\n",
      "conv1d_37 (Conv1D)           (None, 100, 64)           8256      \n",
      "_________________________________________________________________\n",
      "dense_81 (Dense)             (None, 100, 64)           4160      \n",
      "_________________________________________________________________\n",
      "dense_82 (Dense)             (None, 100, 1)            65        \n",
      "=================================================================\n",
      "Total params: 140,609\n",
      "Trainable params: 140,609\n",
      "Non-trainable params: 0\n",
      "_________________________________________________________________\n",
      "Epoch 1/3\n",
      "782/782 [==============================] - 21s 26ms/step - loss: 0.6881 - accuracy: 0.5303\n",
      "Epoch 2/3\n",
      "782/782 [==============================] - 21s 26ms/step - loss: 0.6848 - accuracy: 0.5415\n",
      "Epoch 3/3\n",
      "782/782 [==============================] - 21s 26ms/step - loss: 0.6849 - accuracy: 0.5412\n",
      "782/782 [==============================] - 18s 23ms/step - loss: 0.6858 - accuracy: 0.5376\n",
      "Found 25000 files belonging to 2 classes.\n",
      "Found 25000 files belonging to 2 classes.\n",
      "Filter size is 3\n",
      "Model: \"sequential_43\"\n",
      "_________________________________________________________________\n",
      "Layer (type)                 Output Shape              Param #   \n",
      "=================================================================\n",
      "text_vectorization_8 (TextVe (None, 100)               0         \n",
      "_________________________________________________________________\n",
      "embedding_43 (Embedding)     (None, 100, 128)          128128    \n",
      "_________________________________________________________________\n",
      "conv1d_38 (Conv1D)           (None, 100, 64)           24640     \n",
      "_________________________________________________________________\n",
      "dense_83 (Dense)             (None, 100, 64)           4160      \n",
      "_________________________________________________________________\n",
      "dense_84 (Dense)             (None, 100, 1)            65        \n",
      "=================================================================\n",
      "Total params: 156,993\n",
      "Trainable params: 156,993\n",
      "Non-trainable params: 0\n",
      "_________________________________________________________________\n",
      "Epoch 1/3\n",
      "782/782 [==============================] - 23s 28ms/step - loss: 0.6797 - accuracy: 0.5569\n",
      "Epoch 2/3\n",
      "782/782 [==============================] - 22s 28ms/step - loss: 0.6704 - accuracy: 0.5772\n",
      "Epoch 3/3\n",
      "782/782 [==============================] - 22s 28ms/step - loss: 0.6679 - accuracy: 0.5816\n",
      "782/782 [==============================] - 19s 23ms/step - loss: 0.6694 - accuracy: 0.5759\n",
      "Found 25000 files belonging to 2 classes.\n",
      "Found 25000 files belonging to 2 classes.\n",
      "Filter size is 5\n",
      "Model: \"sequential_44\"\n",
      "_________________________________________________________________\n",
      "Layer (type)                 Output Shape              Param #   \n",
      "=================================================================\n",
      "text_vectorization_9 (TextVe (None, 100)               0         \n",
      "_________________________________________________________________\n",
      "embedding_44 (Embedding)     (None, 100, 128)          128128    \n",
      "_________________________________________________________________\n",
      "conv1d_39 (Conv1D)           (None, 100, 64)           41024     \n",
      "_________________________________________________________________\n",
      "dense_85 (Dense)             (None, 100, 64)           4160      \n",
      "_________________________________________________________________\n",
      "dense_86 (Dense)             (None, 100, 1)            65        \n",
      "=================================================================\n",
      "Total params: 173,377\n",
      "Trainable params: 173,377\n",
      "Non-trainable params: 0\n",
      "_________________________________________________________________\n",
      "Epoch 1/3\n",
      "782/782 [==============================] - 25s 30ms/step - loss: 0.6737 - accuracy: 0.5665\n",
      "Epoch 2/3\n",
      "782/782 [==============================] - 24s 30ms/step - loss: 0.6601 - accuracy: 0.5927\n",
      "Epoch 3/3\n",
      "782/782 [==============================] - 24s 30ms/step - loss: 0.6559 - accuracy: 0.5988\n",
      "782/782 [==============================] - 18s 23ms/step - loss: 0.6581 - accuracy: 0.5948\n",
      "Found 25000 files belonging to 2 classes.\n",
      "Found 25000 files belonging to 2 classes.\n",
      "Filter size is 7\n",
      "Model: \"sequential_45\"\n",
      "_________________________________________________________________\n",
      "Layer (type)                 Output Shape              Param #   \n",
      "=================================================================\n",
      "text_vectorization_10 (TextV (None, 100)               0         \n",
      "_________________________________________________________________\n",
      "embedding_45 (Embedding)     (None, 100, 128)          128128    \n",
      "_________________________________________________________________\n",
      "conv1d_40 (Conv1D)           (None, 100, 64)           57408     \n",
      "_________________________________________________________________\n",
      "dense_87 (Dense)             (None, 100, 64)           4160      \n",
      "_________________________________________________________________\n",
      "dense_88 (Dense)             (None, 100, 1)            65        \n",
      "=================================================================\n",
      "Total params: 189,761\n",
      "Trainable params: 189,761\n",
      "Non-trainable params: 0\n",
      "_________________________________________________________________\n",
      "Epoch 1/3\n",
      "782/782 [==============================] - 28s 34ms/step - loss: 0.6670 - accuracy: 0.5802\n",
      "Epoch 2/3\n",
      "782/782 [==============================] - 27s 34ms/step - loss: 0.6484 - accuracy: 0.6091\n",
      "Epoch 3/3\n",
      "782/782 [==============================] - 27s 35ms/step - loss: 0.6435 - accuracy: 0.6156\n",
      "782/782 [==============================] - 19s 24ms/step - loss: 0.6467 - accuracy: 0.6110\n",
      "Found 25000 files belonging to 2 classes.\n",
      "Found 25000 files belonging to 2 classes.\n",
      "Filter size is 9\n",
      "Model: \"sequential_46\"\n",
      "_________________________________________________________________\n",
      "Layer (type)                 Output Shape              Param #   \n",
      "=================================================================\n",
      "text_vectorization_11 (TextV (None, 100)               0         \n",
      "_________________________________________________________________\n",
      "embedding_46 (Embedding)     (None, 100, 128)          128128    \n",
      "_________________________________________________________________\n",
      "conv1d_41 (Conv1D)           (None, 100, 64)           73792     \n",
      "_________________________________________________________________\n",
      "dense_89 (Dense)             (None, 100, 64)           4160      \n",
      "_________________________________________________________________\n",
      "dense_90 (Dense)             (None, 100, 1)            65        \n",
      "=================================================================\n",
      "Total params: 206,145\n",
      "Trainable params: 206,145\n",
      "Non-trainable params: 0\n",
      "_________________________________________________________________\n",
      "Epoch 1/3\n",
      "782/782 [==============================] - 31s 39ms/step - loss: 0.6615 - accuracy: 0.5870\n",
      "Epoch 2/3\n",
      "782/782 [==============================] - 30s 38ms/step - loss: 0.6391 - accuracy: 0.6217\n",
      "Epoch 3/3\n",
      "782/782 [==============================] - 30s 38ms/step - loss: 0.6355 - accuracy: 0.6263\n",
      "782/782 [==============================] - 20s 25ms/step - loss: 0.6348 - accuracy: 0.6238\n",
      "Found 25000 files belonging to 2 classes.\n",
      "Found 25000 files belonging to 2 classes.\n",
      "Filter size is 11\n",
      "Model: \"sequential_47\"\n",
      "_________________________________________________________________\n",
      "Layer (type)                 Output Shape              Param #   \n",
      "=================================================================\n",
      "text_vectorization_12 (TextV (None, 100)               0         \n",
      "_________________________________________________________________\n",
      "embedding_47 (Embedding)     (None, 100, 128)          128128    \n",
      "_________________________________________________________________\n",
      "conv1d_42 (Conv1D)           (None, 100, 64)           90176     \n",
      "_________________________________________________________________\n",
      "dense_91 (Dense)             (None, 100, 64)           4160      \n",
      "_________________________________________________________________\n",
      "dense_92 (Dense)             (None, 100, 1)            65        \n",
      "=================================================================\n",
      "Total params: 222,529\n",
      "Trainable params: 222,529\n",
      "Non-trainable params: 0\n",
      "_________________________________________________________________\n",
      "Epoch 1/3\n",
      "782/782 [==============================] - 33s 42ms/step - loss: 0.6558 - accuracy: 0.5957\n",
      "Epoch 2/3\n",
      "782/782 [==============================] - 33s 42ms/step - loss: 0.6286 - accuracy: 0.6344\n",
      "Epoch 3/3\n",
      "782/782 [==============================] - 33s 42ms/step - loss: 0.6218 - accuracy: 0.6411\n",
      "782/782 [==============================] - 20s 25ms/step - loss: 0.6259 - accuracy: 0.6353\n",
      "Found 25000 files belonging to 2 classes.\n",
      "Found 25000 files belonging to 2 classes.\n",
      "Filter size is 13\n",
      "Model: \"sequential_48\"\n",
      "_________________________________________________________________\n",
      "Layer (type)                 Output Shape              Param #   \n",
      "=================================================================\n",
      "text_vectorization_13 (TextV (None, 100)               0         \n",
      "_________________________________________________________________\n",
      "embedding_48 (Embedding)     (None, 100, 128)          128128    \n",
      "_________________________________________________________________\n",
      "conv1d_43 (Conv1D)           (None, 100, 64)           106560    \n",
      "_________________________________________________________________\n",
      "dense_93 (Dense)             (None, 100, 64)           4160      \n",
      "_________________________________________________________________\n",
      "dense_94 (Dense)             (None, 100, 1)            65        \n",
      "=================================================================\n",
      "Total params: 238,913\n",
      "Trainable params: 238,913\n",
      "Non-trainable params: 0\n",
      "_________________________________________________________________\n",
      "Epoch 1/3\n",
      "782/782 [==============================] - 35s 44ms/step - loss: 0.6515 - accuracy: 0.6002\n",
      "Epoch 2/3\n",
      "782/782 [==============================] - 34s 44ms/step - loss: 0.6224 - accuracy: 0.6426\n",
      "Epoch 3/3\n",
      "782/782 [==============================] - 34s 44ms/step - loss: 0.6148 - accuracy: 0.65020s - loss: 0.6149 - accura\n",
      "782/782 [==============================] - 20s 25ms/step - loss: 0.6162 - accuracy: 0.6457\n",
      "Found 25000 files belonging to 2 classes.\n",
      "Found 25000 files belonging to 2 classes.\n",
      "Filter size is 15\n",
      "Model: \"sequential_49\"\n",
      "_________________________________________________________________\n",
      "Layer (type)                 Output Shape              Param #   \n",
      "=================================================================\n",
      "text_vectorization_14 (TextV (None, 100)               0         \n",
      "_________________________________________________________________\n",
      "embedding_49 (Embedding)     (None, 100, 128)          128128    \n",
      "_________________________________________________________________\n",
      "conv1d_44 (Conv1D)           (None, 100, 64)           122944    \n",
      "_________________________________________________________________\n",
      "dense_95 (Dense)             (None, 100, 64)           4160      \n",
      "_________________________________________________________________\n",
      "dense_96 (Dense)             (None, 100, 1)            65        \n",
      "=================================================================\n",
      "Total params: 255,297\n",
      "Trainable params: 255,297\n",
      "Non-trainable params: 0\n",
      "_________________________________________________________________\n",
      "Epoch 1/3\n",
      "782/782 [==============================] - 37s 46ms/step - loss: 0.6479 - accuracy: 0.6027\n",
      "Epoch 2/3\n",
      "782/782 [==============================] - 36s 46ms/step - loss: 0.6125 - accuracy: 0.6516\n",
      "Epoch 3/3\n",
      "782/782 [==============================] - 36s 46ms/step - loss: 0.6042 - accuracy: 0.6600\n",
      "782/782 [==============================] - 20s 25ms/step - loss: 0.6094 - accuracy: 0.6525\n",
      "Found 25000 files belonging to 2 classes.\n",
      "Found 25000 files belonging to 2 classes.\n",
      "Filter size is 17\n",
      "Model: \"sequential_50\"\n",
      "_________________________________________________________________\n",
      "Layer (type)                 Output Shape              Param #   \n",
      "=================================================================\n",
      "text_vectorization_15 (TextV (None, 100)               0         \n",
      "_________________________________________________________________\n",
      "embedding_50 (Embedding)     (None, 100, 128)          128128    \n",
      "_________________________________________________________________\n",
      "conv1d_45 (Conv1D)           (None, 100, 64)           139328    \n",
      "_________________________________________________________________\n",
      "dense_97 (Dense)             (None, 100, 64)           4160      \n",
      "_________________________________________________________________\n",
      "dense_98 (Dense)             (None, 100, 1)            65        \n",
      "=================================================================\n",
      "Total params: 271,681\n",
      "Trainable params: 271,681\n",
      "Non-trainable params: 0\n",
      "_________________________________________________________________\n",
      "Epoch 1/3\n",
      "782/782 [==============================] - 39s 49ms/step - loss: 0.6404 - accuracy: 0.6194\n",
      "Epoch 2/3\n",
      "782/782 [==============================] - 39s 49ms/step - loss: 0.6071 - accuracy: 0.6579\n",
      "Epoch 3/3\n",
      "782/782 [==============================] - 39s 49ms/step - loss: 0.5985 - accuracy: 0.6654\n",
      "782/782 [==============================] - 21s 26ms/step - loss: 0.6037 - accuracy: 0.6595\n",
      "Found 25000 files belonging to 2 classes.\n",
      "Found 25000 files belonging to 2 classes.\n",
      "Filter size is 19\n",
      "Model: \"sequential_51\"\n",
      "_________________________________________________________________\n",
      "Layer (type)                 Output Shape              Param #   \n",
      "=================================================================\n",
      "text_vectorization_16 (TextV (None, 100)               0         \n",
      "_________________________________________________________________\n",
      "embedding_51 (Embedding)     (None, 100, 128)          128128    \n",
      "_________________________________________________________________\n",
      "conv1d_46 (Conv1D)           (None, 100, 64)           155712    \n",
      "_________________________________________________________________\n",
      "dense_99 (Dense)             (None, 100, 64)           4160      \n",
      "_________________________________________________________________\n",
      "dense_100 (Dense)            (None, 100, 1)            65        \n",
      "=================================================================\n",
      "Total params: 288,065\n",
      "Trainable params: 288,065\n",
      "Non-trainable params: 0\n",
      "_________________________________________________________________\n",
      "Epoch 1/3\n",
      "782/782 [==============================] - 42s 53ms/step - loss: 0.6424 - accuracy: 0.6092\n",
      "Epoch 2/3\n",
      "782/782 [==============================] - 39s 50ms/step - loss: 0.5986 - accuracy: 0.6656\n",
      "Epoch 3/3\n",
      "782/782 [==============================] - 39s 50ms/step - loss: 0.5888 - accuracy: 0.6747\n",
      "782/782 [==============================] - 21s 26ms/step - loss: 0.5983 - accuracy: 0.6638\n"
     ]
    }
   ],
   "source": [
    "for filterSize in range(1,20,2):\n",
    "    # read the directory into memory and clean the text\n",
    "    trainData = prepareData('../datasets/imdb/train')\n",
    "    testData = prepareData('../datasets/imdb/test')\n",
    "\n",
    "    # create a TextVectorization layer to turn input string into a sequence of integers,\n",
    "    # each representing one token\n",
    "    maxTokens = 1000\n",
    "    vectorizeLayer = TextVectorization(max_tokens = maxTokens,\n",
    "                                       output_mode = 'int',\n",
    "                                       output_sequence_length = 100)\n",
    "\n",
    "    # adapt() fits the TextVectorization layer to our text dataset. This is when the\n",
    "    # max_tokens most common words (i.e. the vocabulary) are selected.\n",
    "    trainText = trainData.map(lambda text, label: text)\n",
    "\n",
    "    vectorizeLayer.adapt(trainText)\n",
    "    \n",
    "    print('Filter size is', filterSize)\n",
    "    \n",
    "    model = Sequential()\n",
    "\n",
    "    model.add(Input(shape=(1,), dtype = 'string'))\n",
    "\n",
    "    # add layer to the model\n",
    "    model.add(vectorizeLayer)\n",
    "\n",
    "    # add an embedding layer to turn integers into fixed-length vectors\n",
    "    model.add(Embedding(maxTokens + 1, 128))\n",
    "\n",
    "    # add a 1D convolutional layer with 64 filters of length 3\n",
    "    model.add(Conv1D(64, filterSize, padding ='same', activation = 'relu'))\n",
    "\n",
    "    # add a dense layer\n",
    "    model.add(Dense(64, activation = 'relu'))\n",
    "\n",
    "    # add softmax classifier\n",
    "    model.add(Dense(1, activation = 'sigmoid'))\n",
    "    \n",
    "    model.compile(optimizer = 'adam', loss = 'binary_crossentropy', metrics = ['accuracy'])\n",
    "    model.summary()\n",
    "    \n",
    "    model.fit(trainData, epochs = 3)\n",
    "    \n",
    "    model.evaluate(testData)"
   ]
  },
  {
   "cell_type": "code",
   "execution_count": 166,
   "metadata": {},
   "outputs": [],
   "source": [
    "class LeNetReg:\n",
    "    # create the architecture\n",
    "    def build(classes):\n",
    "        # create a feedforward neural net\n",
    "        model = Sequential()\n",
    "\n",
    "        model.add(Input(shape=(1,), dtype = 'string'))\n",
    "        \n",
    "        # add layer to the model\n",
    "        model.add(vectorizeLayer)\n",
    "\n",
    "        # add an embedding layer to turn integers into fixed-length vectors\n",
    "        model.add(Embedding(maxTokens + 1, 128))\n",
    "        \n",
    "        # add a convolutional layer with 20 5x5 filters and a 2x2 max pooling layer\n",
    "        model.add(Conv1D(32, 20, padding = 'same'))\n",
    "        model.add(Activation('relu'))\n",
    "        \n",
    "        #model.add(MaxPooling1D(pool_size = 2, strides = 2))\n",
    "        \n",
    "        # add another convolutional layer with 50 5x5 filters and a 2x2 max pooling layer\n",
    "        model.add(Conv1D(64, 20, padding= 'same'))\n",
    "        model.add(Activation('relu'))\n",
    "        #model.add(MaxPooling1D(pool_size = 2, strides = 2))\n",
    "        \n",
    "        # add another convolutional layer\n",
    "        model.add(Conv1D(128, 20, padding = 'same'))\n",
    "        model.add(Activation('relu'))\n",
    "        \n",
    "        # add a fully-connected layer\n",
    "        model.add(Dense(500))\n",
    "        model.add(Activation('relu'))\n",
    "        model.add(Dropout(0.5))\n",
    "        \n",
    "        # add a softmax classifier\n",
    "        model.add(Dense(classes))\n",
    "        model.add(Activation('sigmoid'))\n",
    "        \n",
    "        # return the constructed model\n",
    "        return model"
   ]
  },
  {
   "cell_type": "code",
   "execution_count": 168,
   "metadata": {},
   "outputs": [
    {
     "name": "stdout",
     "output_type": "stream",
     "text": [
      "Found 25000 files belonging to 2 classes.\n",
      "Found 25000 files belonging to 2 classes.\n",
      "Model: \"sequential_61\"\n",
      "_________________________________________________________________\n",
      "Layer (type)                 Output Shape              Param #   \n",
      "=================================================================\n",
      "text_vectorization_26 (TextV (None, 100)               0         \n",
      "_________________________________________________________________\n",
      "embedding_61 (Embedding)     (None, 100, 128)          128128    \n",
      "_________________________________________________________________\n",
      "conv1d_59 (Conv1D)           (None, 100, 32)           81952     \n",
      "_________________________________________________________________\n",
      "activation_45 (Activation)   (None, 100, 32)           0         \n",
      "_________________________________________________________________\n",
      "conv1d_60 (Conv1D)           (None, 100, 64)           41024     \n",
      "_________________________________________________________________\n",
      "activation_46 (Activation)   (None, 100, 64)           0         \n",
      "_________________________________________________________________\n",
      "conv1d_61 (Conv1D)           (None, 100, 128)          163968    \n",
      "_________________________________________________________________\n",
      "activation_47 (Activation)   (None, 100, 128)          0         \n",
      "_________________________________________________________________\n",
      "dense_118 (Dense)            (None, 100, 500)          64500     \n",
      "_________________________________________________________________\n",
      "activation_48 (Activation)   (None, 100, 500)          0         \n",
      "_________________________________________________________________\n",
      "dropout_3 (Dropout)          (None, 100, 500)          0         \n",
      "_________________________________________________________________\n",
      "dense_119 (Dense)            (None, 100, 1)            501       \n",
      "_________________________________________________________________\n",
      "activation_49 (Activation)   (None, 100, 1)            0         \n",
      "=================================================================\n",
      "Total params: 480,073\n",
      "Trainable params: 480,073\n",
      "Non-trainable params: 0\n",
      "_________________________________________________________________\n"
     ]
    }
   ],
   "source": [
    "# read the directory into memory and clean the text\n",
    "trainData = prepareData('../datasets/imdb/train')\n",
    "testData = prepareData('../datasets/imdb/test')\n",
    "\n",
    "# create a TextVectorization layer to turn input string into a sequence of integers,\n",
    "# each representing one token\n",
    "maxTokens = 1000\n",
    "vectorizeLayer = TextVectorization(max_tokens = maxTokens,\n",
    "                                   output_mode = 'int',\n",
    "                                   output_sequence_length = 100)\n",
    "\n",
    "# adapt() fits the TextVectorization layer to our text dataset. This is when the\n",
    "# max_tokens most common words (i.e. the vocabulary) are selected.\n",
    "trainText = trainData.map(lambda text, label: text)\n",
    "\n",
    "vectorizeLayer.adapt(trainText)\n",
    "\n",
    "model = LeNetReg.build(1)\n",
    "model.compile(optimizer = 'adam', loss = 'binary_crossentropy', metrics = ['accuracy'])\n",
    "model.summary()"
   ]
  },
  {
   "cell_type": "code",
   "execution_count": 169,
   "metadata": {},
   "outputs": [
    {
     "name": "stdout",
     "output_type": "stream",
     "text": [
      "Epoch 1/10\n",
      "782/782 [==============================] - 122s 154ms/step - loss: 0.6120 - accuracy: 0.6499 - val_loss: 0.5370 - val_accuracy: 0.7205\n",
      "Epoch 2/10\n",
      "782/782 [==============================] - 119s 152ms/step - loss: 0.5176 - accuracy: 0.7397 - val_loss: 0.5109 - val_accuracy: 0.7381\n",
      "Epoch 3/10\n",
      "782/782 [==============================] - 115s 147ms/step - loss: 0.4904 - accuracy: 0.7575 - val_loss: 0.5228 - val_accuracy: 0.7285\n",
      "Epoch 4/10\n",
      "782/782 [==============================] - 115s 147ms/step - loss: 0.4608 - accuracy: 0.7760 - val_loss: 0.5516 - val_accuracy: 0.7220\n",
      "Epoch 5/10\n",
      "782/782 [==============================] - 113s 144ms/step - loss: 0.4194 - accuracy: 0.8023 - val_loss: 0.6267 - val_accuracy: 0.7242\n",
      "Epoch 6/10\n",
      "782/782 [==============================] - 110s 141ms/step - loss: 0.3593 - accuracy: 0.8359 - val_loss: 0.7071 - val_accuracy: 0.7083\n",
      "Epoch 7/10\n",
      "782/782 [==============================] - 118s 151ms/step - loss: 0.2860 - accuracy: 0.8729 - val_loss: 0.9876 - val_accuracy: 0.6988\n",
      "Epoch 8/10\n",
      "782/782 [==============================] - 115s 147ms/step - loss: 0.2129 - accuracy: 0.9078 - val_loss: 1.2195 - val_accuracy: 0.7043\n",
      "Epoch 9/10\n",
      "782/782 [==============================] - 114s 146ms/step - loss: 0.1505 - accuracy: 0.9358 - val_loss: 1.4007 - val_accuracy: 0.6935\n",
      "Epoch 10/10\n",
      "782/782 [==============================] - 114s 145ms/step - loss: 0.1092 - accuracy: 0.9539 - val_loss: 1.7007 - val_accuracy: 0.6936\n"
     ]
    },
    {
     "data": {
      "text/plain": [
       "<matplotlib.legend.Legend at 0x23d4a61aa88>"
      ]
     },
     "execution_count": 169,
     "metadata": {},
     "output_type": "execute_result"
    },
    {
     "data": {
      "image/png": "[encoded data removed]",
      "text/plain": [
       "<Figure size 432x288 with 1 Axes>"
      ]
     },
     "metadata": {},
     "output_type": "display_data"
    }
   ],
   "source": [
    "epochs = 10\n",
    "\n",
    "H = model.fit(trainData, validation_data = testData, epochs = epochs)\n",
    "\n",
    "plt.style.use('ggplot')\n",
    "plt.figure()\n",
    "plt.plot(np.arange(0, epochs), H.history['loss'], label = 'train_loss')\n",
    "plt.plot(np.arange(0, epochs), H.history['val_loss'], label = 'val_loss')\n",
    "plt.plot(np.arange(0, epochs), H.history['accuracy'], label = 'train_acc')\n",
    "plt.plot(np.arange(0, epochs), H.history['val_accuracy'], label = 'val_acc')\n",
    "    \n",
    "# add labels and legend\n",
    "plt.title('Training Loss and Accuracy')\n",
    "plt.xlabel('Epoch #')\n",
    "plt.ylabel('Loss/Accuracy')\n",
    "plt.legend()"
   ]
  },
  {
   "cell_type": "code",
   "execution_count": 170,
   "metadata": {},
   "outputs": [
    {
     "name": "stdout",
     "output_type": "stream",
     "text": [
      "782/782 [==============================] - 27s 34ms/step - loss: 1.7007 - accuracy: 0.6936\n"
     ]
    },
    {
     "data": {
      "text/plain": [
       "[1.7007369995117188, 0.6935557126998901]"
      ]
     },
     "execution_count": 170,
     "metadata": {},
     "output_type": "execute_result"
    }
   ],
   "source": [
    "model.evaluate(testData)"
   ]
  },
  {
   "cell_type": "markdown",
   "metadata": {},
   "source": [
    "#### Recurrent Net Experiments\n",
    "\n",
    "Here, let's try replacing one of the dense layers from the fully-connected net with a fully-connected recurrent layer and see how the results look."
   ]
  },
  {
   "cell_type": "code",
   "execution_count": 135,
   "metadata": {},
   "outputs": [
    {
     "name": "stdout",
     "output_type": "stream",
     "text": [
      "Found 25000 files belonging to 2 classes.\n",
      "Found 25000 files belonging to 2 classes.\n"
     ]
    }
   ],
   "source": [
    "# read the directory into memory and clean the text\n",
    "trainData = prepareData('../datasets/imdb/train')\n",
    "testData = prepareData('../datasets/imdb/test')\n",
    "\n",
    "# create a TextVectorization layer to turn input string into a sequence of integers,\n",
    "# each representing one token\n",
    "maxTokens = 1000\n",
    "vectorizeLayer = TextVectorization(max_tokens = maxTokens,\n",
    "                                   output_mode = 'int',\n",
    "                                   output_sequence_length = 100)\n",
    "\n",
    "# adapt() fits the TextVectorization layer to our text dataset. This is when the\n",
    "# max_tokens most common words (i.e. the vocabulary) are selected.\n",
    "trainText = trainData.map(lambda text, label: text)\n",
    "\n",
    "vectorizeLayer.adapt(trainText)\n",
    "\n",
    "model = Sequential()\n",
    "\n",
    "model.add(Input(shape=(1,), dtype = 'string'))\n",
    "\n",
    "# add layer to the model\n",
    "model.add(vectorizeLayer)\n",
    "\n",
    "# add an embedding layer to turn integers into fixed-length vectors\n",
    "model.add(Embedding(maxTokens + 1, 128))\n",
    "\n",
    "# add a fully-connected recurrent layer\n",
    "model.add(SimpleRNN(64))\n",
    "\n",
    "# add a dense layer\n",
    "model.add(Dense(64, activation = 'relu'))\n",
    "\n",
    "# add softmax classifier\n",
    "model.add(Dense(1, activation = 'sigmoid'))"
   ]
  },
  {
   "cell_type": "code",
   "execution_count": 136,
   "metadata": {},
   "outputs": [
    {
     "name": "stdout",
     "output_type": "stream",
     "text": [
      "Model: \"sequential_52\"\n",
      "_________________________________________________________________\n",
      "Layer (type)                 Output Shape              Param #   \n",
      "=================================================================\n",
      "text_vectorization_17 (TextV (None, 100)               0         \n",
      "_________________________________________________________________\n",
      "embedding_52 (Embedding)     (None, 100, 128)          128128    \n",
      "_________________________________________________________________\n",
      "simple_rnn_4 (SimpleRNN)     (None, 64)                12352     \n",
      "_________________________________________________________________\n",
      "dense_101 (Dense)            (None, 64)                4160      \n",
      "_________________________________________________________________\n",
      "dense_102 (Dense)            (None, 1)                 65        \n",
      "=================================================================\n",
      "Total params: 144,705\n",
      "Trainable params: 144,705\n",
      "Non-trainable params: 0\n",
      "_________________________________________________________________\n"
     ]
    }
   ],
   "source": [
    "model.compile(optimizer = 'adam', loss = 'binary_crossentropy', metrics = ['accuracy'])\n",
    "model.summary()"
   ]
  },
  {
   "cell_type": "code",
   "execution_count": 137,
   "metadata": {},
   "outputs": [
    {
     "name": "stdout",
     "output_type": "stream",
     "text": [
      "Epoch 1/10\n",
      "782/782 [==============================] - 45s 56ms/step - loss: 0.6989 - accuracy: 0.4998 - val_loss: 0.6949 - val_accuracy: 0.5084\n",
      "Epoch 2/10\n",
      "782/782 [==============================] - 44s 57ms/step - loss: 0.6939 - accuracy: 0.5176 - val_loss: 0.6864 - val_accuracy: 0.5377\n",
      "Epoch 3/10\n",
      "782/782 [==============================] - 45s 58ms/step - loss: 0.6713 - accuracy: 0.5854 - val_loss: 0.6700 - val_accuracy: 0.5715\n",
      "Epoch 4/10\n",
      "782/782 [==============================] - 45s 58ms/step - loss: 0.6516 - accuracy: 0.6084 - val_loss: 0.6732 - val_accuracy: 0.5816\n",
      "Epoch 5/10\n",
      "782/782 [==============================] - 45s 58ms/step - loss: 0.6407 - accuracy: 0.6315 - val_loss: 0.6920 - val_accuracy: 0.5330\n",
      "Epoch 6/10\n",
      "782/782 [==============================] - 46s 59ms/step - loss: 0.6830 - accuracy: 0.5498 - val_loss: 0.6891 - val_accuracy: 0.5390\n",
      "Epoch 7/10\n",
      "782/782 [==============================] - 45s 57ms/step - loss: 0.6676 - accuracy: 0.5876 - val_loss: 0.6800 - val_accuracy: 0.5527\n",
      "Epoch 8/10\n",
      "782/782 [==============================] - 45s 57ms/step - loss: 0.6503 - accuracy: 0.6039 - val_loss: 0.6925 - val_accuracy: 0.5420\n",
      "Epoch 9/10\n",
      "782/782 [==============================] - 45s 57ms/step - loss: 0.6721 - accuracy: 0.5760 - val_loss: 0.6875 - val_accuracy: 0.5555\n",
      "Epoch 10/10\n",
      "782/782 [==============================] - 45s 57ms/step - loss: 0.6646 - accuracy: 0.5849 - val_loss: 0.6904 - val_accuracy: 0.5588\n"
     ]
    },
    {
     "data": {
      "text/plain": [
       "<matplotlib.legend.Legend at 0x23d49ffd208>"
      ]
     },
     "execution_count": 137,
     "metadata": {},
     "output_type": "execute_result"
    },
    {
     "data": {
      "image/png": "[encoded data removed]",
      "text/plain": [
       "<Figure size 432x288 with 1 Axes>"
      ]
     },
     "metadata": {},
     "output_type": "display_data"
    }
   ],
   "source": [
    "epochs = 10\n",
    "\n",
    "H = model.fit(trainData, validation_data = testData, epochs = epochs)\n",
    "\n",
    "plt.style.use('ggplot')\n",
    "plt.figure()\n",
    "plt.plot(np.arange(0, epochs), H.history['loss'], label = 'train_loss')\n",
    "plt.plot(np.arange(0, epochs), H.history['val_loss'], label = 'val_loss')\n",
    "plt.plot(np.arange(0, epochs), H.history['accuracy'], label = 'train_acc')\n",
    "plt.plot(np.arange(0, epochs), H.history['val_accuracy'], label = 'val_acc')\n",
    "    \n",
    "# add labels and legend\n",
    "plt.title('Training Loss and Accuracy')\n",
    "plt.xlabel('Epoch #')\n",
    "plt.ylabel('Loss/Accuracy')\n",
    "plt.legend()"
   ]
  },
  {
   "cell_type": "code",
   "execution_count": 138,
   "metadata": {},
   "outputs": [
    {
     "name": "stdout",
     "output_type": "stream",
     "text": [
      "782/782 [==============================] - 20s 26ms/step - loss: 0.6904 - accuracy: 0.5588\n"
     ]
    },
    {
     "data": {
      "text/plain": [
       "[0.6903530955314636, 0.5587599873542786]"
      ]
     },
     "execution_count": 138,
     "metadata": {},
     "output_type": "execute_result"
    }
   ],
   "source": [
    "model.evaluate(testData)"
   ]
  },
  {
   "cell_type": "markdown",
   "metadata": {},
   "source": [
    "As we see, the results are a little better than the fully connected net, but does not perform as well as some of the CNN experiments above."
   ]
  },
  {
   "cell_type": "code",
   "execution_count": 186,
   "metadata": {},
   "outputs": [
    {
     "name": "stdout",
     "output_type": "stream",
     "text": [
      "Found 25000 files belonging to 2 classes.\n",
      "Found 25000 files belonging to 2 classes.\n"
     ]
    }
   ],
   "source": [
    "# read the directory into memory and clean the text\n",
    "trainData = prepareData('../datasets/imdb/train')\n",
    "testData = prepareData('../datasets/imdb/test')\n",
    "\n",
    "# create a TextVectorization layer to turn input string into a sequence of integers,\n",
    "# each representing one token\n",
    "maxTokens = 1000\n",
    "vectorizeLayer = TextVectorization(max_tokens = maxTokens,\n",
    "                                   output_mode = 'int',\n",
    "                                   output_sequence_length = 100)\n",
    "\n",
    "# adapt() fits the TextVectorization layer to our text dataset. This is when the\n",
    "# max_tokens most common words (i.e. the vocabulary) are selected.\n",
    "trainText = trainData.map(lambda text, label: text)\n",
    "\n",
    "vectorizeLayer.adapt(trainText)\n",
    "\n",
    "model = Sequential()\n",
    "\n",
    "model.add(Input(shape=(1,), dtype = 'string'))\n",
    "\n",
    "# add layer to the model\n",
    "model.add(vectorizeLayer)\n",
    "\n",
    "# add an embedding layer to turn integers into fixed-length vectors\n",
    "model.add(Embedding(maxTokens + 1, 128))\n",
    "\n",
    "# add a fully-connected recurrent layer\n",
    "model.add(Bidirectional(SimpleRNN(64)))\n",
    "\n",
    "# add a dense layer\n",
    "model.add(Dense(64, activation = 'relu'))\n",
    "\n",
    "# add softmax classifier\n",
    "model.add(Dense(1, activation = 'sigmoid'))"
   ]
  },
  {
   "cell_type": "code",
   "execution_count": 187,
   "metadata": {},
   "outputs": [
    {
     "name": "stdout",
     "output_type": "stream",
     "text": [
      "Model: \"sequential_67\"\n",
      "_________________________________________________________________\n",
      "Layer (type)                 Output Shape              Param #   \n",
      "=================================================================\n",
      "text_vectorization_32 (TextV (None, 100)               0         \n",
      "_________________________________________________________________\n",
      "embedding_67 (Embedding)     (None, 100, 128)          128128    \n",
      "_________________________________________________________________\n",
      "bidirectional (Bidirectional (None, 128)               24704     \n",
      "_________________________________________________________________\n",
      "dense_124 (Dense)            (None, 64)                8256      \n",
      "_________________________________________________________________\n",
      "dense_125 (Dense)            (None, 1)                 65        \n",
      "=================================================================\n",
      "Total params: 161,153\n",
      "Trainable params: 161,153\n",
      "Non-trainable params: 0\n",
      "_________________________________________________________________\n",
      "Epoch 1/10\n",
      "782/782 [==============================] - 178s 226ms/step - loss: 0.6956 - accuracy: 0.5139 - val_loss: 0.6064 - val_accuracy: 0.6716\n",
      "Epoch 2/10\n",
      "782/782 [==============================] - 53s 68ms/step - loss: 0.6559 - accuracy: 0.6149 - val_loss: 0.6915 - val_accuracy: 0.5285\n",
      "Epoch 3/10\n",
      "782/782 [==============================] - 53s 68ms/step - loss: 0.6439 - accuracy: 0.6214 - val_loss: 0.6176 - val_accuracy: 0.6644\n",
      "Epoch 4/10\n",
      "782/782 [==============================] - 55s 70ms/step - loss: 0.6034 - accuracy: 0.6707 - val_loss: 0.5545 - val_accuracy: 0.7120\n",
      "Epoch 5/10\n",
      "782/782 [==============================] - 55s 70ms/step - loss: 0.5415 - accuracy: 0.7316 - val_loss: 0.6380 - val_accuracy: 0.6530\n",
      "Epoch 6/10\n",
      "782/782 [==============================] - 56s 72ms/step - loss: 0.5674 - accuracy: 0.7175 - val_loss: 0.6271 - val_accuracy: 0.6485\n",
      "Epoch 7/10\n",
      "782/782 [==============================] - 55s 70ms/step - loss: 0.5886 - accuracy: 0.6883 - val_loss: 0.5594 - val_accuracy: 0.7261\n",
      "Epoch 8/10\n",
      "782/782 [==============================] - 56s 71ms/step - loss: 0.5400 - accuracy: 0.7357 - val_loss: 0.5853 - val_accuracy: 0.6862\n",
      "Epoch 9/10\n",
      "782/782 [==============================] - 57s 72ms/step - loss: 0.5524 - accuracy: 0.7241 - val_loss: 0.5410 - val_accuracy: 0.7326\n",
      "Epoch 10/10\n",
      "782/782 [==============================] - 54s 69ms/step - loss: 0.5357 - accuracy: 0.7366 - val_loss: 0.5662 - val_accuracy: 0.7059\n",
      "782/782 [==============================] - 22s 28ms/step - loss: 0.5662 - accuracy: 0.7059\n"
     ]
    },
    {
     "data": {
      "text/plain": [
       "[0.5662016868591309, 0.7059199810028076]"
      ]
     },
     "execution_count": 187,
     "metadata": {},
     "output_type": "execute_result"
    },
    {
     "data": {
      "image/png": "[encoded data removed]",
      "text/plain": [
       "<Figure size 432x288 with 1 Axes>"
      ]
     },
     "metadata": {},
     "output_type": "display_data"
    }
   ],
   "source": [
    "model.compile(optimizer = 'adam', loss = 'binary_crossentropy', metrics = ['accuracy'])\n",
    "model.summary()\n",
    "\n",
    "epochs = 10\n",
    "\n",
    "H = model.fit(trainData, validation_data = testData, epochs = epochs)\n",
    "\n",
    "plt.style.use('ggplot')\n",
    "plt.figure()\n",
    "plt.plot(np.arange(0, epochs), H.history['loss'], label = 'train_loss')\n",
    "plt.plot(np.arange(0, epochs), H.history['val_loss'], label = 'val_loss')\n",
    "plt.plot(np.arange(0, epochs), H.history['accuracy'], label = 'train_acc')\n",
    "plt.plot(np.arange(0, epochs), H.history['val_accuracy'], label = 'val_acc')\n",
    "    \n",
    "# add labels and legend\n",
    "plt.title('Training Loss and Accuracy')\n",
    "plt.xlabel('Epoch #')\n",
    "plt.ylabel('Loss/Accuracy')\n",
    "plt.legend()\n",
    "\n",
    "model.evaluate(testData)"
   ]
  },
  {
   "cell_type": "code",
   "execution_count": 143,
   "metadata": {},
   "outputs": [
    {
     "name": "stdout",
     "output_type": "stream",
     "text": [
      "[[0.00585702]]\n",
      "[[0.93553996]]\n",
      "[[0.94442177]]\n",
      "[[0.97756386]]\n",
      "[[0.00545222]]\n"
     ]
    }
   ],
   "source": [
    "print(model.predict(['Watching this film was the worst experience of my life and I would rather die than watch it again.']))\n",
    "\n",
    "print(model.predict(['The acting is only okay in this movie, but it has an amazing storyline, so I rate it as good but not great.']))\n",
    "\n",
    "print(model.predict(['Dodgeball is my brother\\'s favorite movie, but I hate it']))\n",
    "\n",
    "print(model.predict(['Dodgeball is my brother\\'s favorite movie and it has its moments, but I think the comedy is sophomoric and crude. The acting is great, but the writing is subpar. Overall, I would rate this movie 2/10.']))\n",
    "\n",
    "print(model.predict(['I love Nicholas Cage, but this movie is horrible. NOT THE BEES.']))"
   ]
  },
  {
   "cell_type": "markdown",
   "metadata": {},
   "source": [
    "#### Experiment With LSTM"
   ]
  },
  {
   "cell_type": "code",
   "execution_count": 158,
   "metadata": {},
   "outputs": [
    {
     "name": "stdout",
     "output_type": "stream",
     "text": [
      "Found 25000 files belonging to 2 classes.\n",
      "Found 25000 files belonging to 2 classes.\n"
     ]
    }
   ],
   "source": [
    "# read the directory into memory and clean the text\n",
    "trainData = prepareData('../datasets/imdb/train')\n",
    "testData = prepareData('../datasets/imdb/test')\n",
    "\n",
    "# create a TextVectorization layer to turn input string into a sequence of integers,\n",
    "# each representing one token\n",
    "maxTokens = 1000\n",
    "vectorizeLayer = TextVectorization(max_tokens = maxTokens,\n",
    "                                   output_mode = 'int',\n",
    "                                   output_sequence_length = 100)\n",
    "\n",
    "# adapt() fits the TextVectorization layer to our text dataset. This is when the\n",
    "# max_tokens most common words (i.e. the vocabulary) are selected.\n",
    "trainText = trainData.map(lambda text, label: text)\n",
    "\n",
    "vectorizeLayer.adapt(trainText)\n",
    "\n",
    "model = Sequential()\n",
    "\n",
    "model.add(Input(shape=(1,), dtype = 'string'))\n",
    "\n",
    "# add layer to the model\n",
    "model.add(vectorizeLayer)\n",
    "\n",
    "# add an embedding layer to turn integers into fixed-length vectors\n",
    "model.add(Embedding(maxTokens + 1, 128))\n",
    "\n",
    "# add a fully-connected recurrent layer\n",
    "model.add(LSTM(64))\n",
    "\n",
    "# add a dense layer\n",
    "model.add(Dense(64, activation = 'relu'))\n",
    "model.add(Dropout(0.5))\n",
    "\n",
    "# add softmax classifier\n",
    "model.add(Dense(1, activation = 'sigmoid'))"
   ]
  },
  {
   "cell_type": "code",
   "execution_count": 159,
   "metadata": {},
   "outputs": [
    {
     "name": "stdout",
     "output_type": "stream",
     "text": [
      "Model: \"sequential_58\"\n",
      "_________________________________________________________________\n",
      "Layer (type)                 Output Shape              Param #   \n",
      "=================================================================\n",
      "text_vectorization_23 (TextV (None, 100)               0         \n",
      "_________________________________________________________________\n",
      "embedding_58 (Embedding)     (None, 100, 128)          128128    \n",
      "_________________________________________________________________\n",
      "lstm_9 (LSTM)                (None, 64)                49408     \n",
      "_________________________________________________________________\n",
      "dense_112 (Dense)            (None, 64)                4160      \n",
      "_________________________________________________________________\n",
      "dropout (Dropout)            (None, 64)                0         \n",
      "_________________________________________________________________\n",
      "dense_113 (Dense)            (None, 1)                 65        \n",
      "=================================================================\n",
      "Total params: 181,761\n",
      "Trainable params: 181,761\n",
      "Non-trainable params: 0\n",
      "_________________________________________________________________\n"
     ]
    }
   ],
   "source": [
    "model.compile(optimizer = 'adam', loss = 'binary_crossentropy', metrics = ['accuracy'])\n",
    "model.summary()"
   ]
  },
  {
   "cell_type": "code",
   "execution_count": 160,
   "metadata": {},
   "outputs": [
    {
     "name": "stdout",
     "output_type": "stream",
     "text": [
      "Epoch 1/10\n",
      "782/782 [==============================] - 66s 83ms/step - loss: 0.6128 - accuracy: 0.6372 - val_loss: 0.4736 - val_accuracy: 0.7834\n",
      "Epoch 2/10\n",
      "782/782 [==============================] - 65s 83ms/step - loss: 0.4547 - accuracy: 0.7917 - val_loss: 0.4440 - val_accuracy: 0.7949\n",
      "Epoch 3/10\n",
      "782/782 [==============================] - 66s 84ms/step - loss: 0.4205 - accuracy: 0.8128 - val_loss: 0.4529 - val_accuracy: 0.7871\n",
      "Epoch 4/10\n",
      "782/782 [==============================] - 65s 83ms/step - loss: 0.3948 - accuracy: 0.8306 - val_loss: 0.4479 - val_accuracy: 0.7855\n",
      "Epoch 5/10\n",
      "782/782 [==============================] - 65s 82ms/step - loss: 0.3718 - accuracy: 0.8406 - val_loss: 0.4901 - val_accuracy: 0.7907\n",
      "Epoch 6/10\n",
      "782/782 [==============================] - 64s 81ms/step - loss: 0.3565 - accuracy: 0.8467 - val_loss: 0.4779 - val_accuracy: 0.7883\n",
      "Epoch 7/10\n",
      "782/782 [==============================] - 66s 84ms/step - loss: 0.3465 - accuracy: 0.8505 - val_loss: 0.5323 - val_accuracy: 0.7866\n",
      "Epoch 8/10\n",
      "782/782 [==============================] - 68s 86ms/step - loss: 0.3339 - accuracy: 0.8611 - val_loss: 0.5187 - val_accuracy: 0.7772\n",
      "Epoch 9/10\n",
      "782/782 [==============================] - 68s 87ms/step - loss: 0.3127 - accuracy: 0.8674 - val_loss: 0.5514 - val_accuracy: 0.7740\n",
      "Epoch 10/10\n",
      "782/782 [==============================] - 66s 84ms/step - loss: 0.3045 - accuracy: 0.8723 - val_loss: 0.5815 - val_accuracy: 0.7668\n"
     ]
    },
    {
     "data": {
      "text/plain": [
       "<matplotlib.legend.Legend at 0x23d4a1f7148>"
      ]
     },
     "execution_count": 160,
     "metadata": {},
     "output_type": "execute_result"
    },
    {
     "data": {
      "image/png": "[encoded data removed]",
      "text/plain": [
       "<Figure size 432x288 with 1 Axes>"
      ]
     },
     "metadata": {},
     "output_type": "display_data"
    }
   ],
   "source": [
    "epochs = 10\n",
    "\n",
    "H = model.fit(trainData, validation_data = testData, epochs = epochs)\n",
    "\n",
    "plt.style.use('ggplot')\n",
    "plt.figure()\n",
    "plt.plot(np.arange(0, epochs), H.history['loss'], label = 'train_loss')\n",
    "plt.plot(np.arange(0, epochs), H.history['val_loss'], label = 'val_loss')\n",
    "plt.plot(np.arange(0, epochs), H.history['accuracy'], label = 'train_acc')\n",
    "plt.plot(np.arange(0, epochs), H.history['val_accuracy'], label = 'val_acc')\n",
    "    \n",
    "# add labels and legend\n",
    "plt.title('Training Loss and Accuracy')\n",
    "plt.xlabel('Epoch #')\n",
    "plt.ylabel('Loss/Accuracy')\n",
    "plt.legend()"
   ]
  },
  {
   "cell_type": "code",
   "execution_count": 161,
   "metadata": {},
   "outputs": [
    {
     "name": "stdout",
     "output_type": "stream",
     "text": [
      "782/782 [==============================] - 25s 32ms/step - loss: 0.5815 - accuracy: 0.7668\n"
     ]
    },
    {
     "data": {
      "text/plain": [
       "[0.5814893245697021, 0.766759991645813]"
      ]
     },
     "execution_count": 161,
     "metadata": {},
     "output_type": "execute_result"
    }
   ],
   "source": [
    "model.evaluate(testData)"
   ]
  },
  {
   "cell_type": "code",
   "execution_count": 162,
   "metadata": {},
   "outputs": [
    {
     "name": "stdout",
     "output_type": "stream",
     "text": [
      "Found 25000 files belonging to 2 classes.\n",
      "Found 25000 files belonging to 2 classes.\n"
     ]
    }
   ],
   "source": [
    "# read the directory into memory and clean the text\n",
    "trainData = prepareData('../datasets/imdb/train')\n",
    "testData = prepareData('../datasets/imdb/test')\n",
    "\n",
    "# create a TextVectorization layer to turn input string into a sequence of integers,\n",
    "# each representing one token\n",
    "maxTokens = 1000\n",
    "vectorizeLayer = TextVectorization(max_tokens = maxTokens,\n",
    "                                   output_mode = 'int',\n",
    "                                   output_sequence_length = 100)\n",
    "\n",
    "# adapt() fits the TextVectorization layer to our text dataset. This is when the\n",
    "# max_tokens most common words (i.e. the vocabulary) are selected.\n",
    "trainText = trainData.map(lambda text, label: text)\n",
    "\n",
    "vectorizeLayer.adapt(trainText)\n",
    "\n",
    "model = Sequential()\n",
    "\n",
    "model.add(Input(shape=(1,), dtype = 'string'))\n",
    "\n",
    "# add layer to the model\n",
    "model.add(vectorizeLayer)\n",
    "\n",
    "# add an embedding layer to turn integers into fixed-length vectors\n",
    "model.add(Embedding(maxTokens + 1, 128))\n",
    "\n",
    "# add a fully-connected recurrent layer\n",
    "model.add(LSTM(64))\n",
    "model.add(Dropout(0.5))\n",
    "\n",
    "# add a dense layer\n",
    "model.add(Dense(64, activation = 'relu'))\n",
    "model.add(Dropout(0.5))\n",
    "\n",
    "# add softmax classifier\n",
    "model.add(Dense(1, activation = 'sigmoid'))"
   ]
  },
  {
   "cell_type": "code",
   "execution_count": 163,
   "metadata": {},
   "outputs": [
    {
     "name": "stdout",
     "output_type": "stream",
     "text": [
      "Model: \"sequential_59\"\n",
      "_________________________________________________________________\n",
      "Layer (type)                 Output Shape              Param #   \n",
      "=================================================================\n",
      "text_vectorization_24 (TextV (None, 100)               0         \n",
      "_________________________________________________________________\n",
      "embedding_59 (Embedding)     (None, 100, 128)          128128    \n",
      "_________________________________________________________________\n",
      "lstm_10 (LSTM)               (None, 64)                49408     \n",
      "_________________________________________________________________\n",
      "dropout_1 (Dropout)          (None, 64)                0         \n",
      "_________________________________________________________________\n",
      "dense_114 (Dense)            (None, 64)                4160      \n",
      "_________________________________________________________________\n",
      "dropout_2 (Dropout)          (None, 64)                0         \n",
      "_________________________________________________________________\n",
      "dense_115 (Dense)            (None, 1)                 65        \n",
      "=================================================================\n",
      "Total params: 181,761\n",
      "Trainable params: 181,761\n",
      "Non-trainable params: 0\n",
      "_________________________________________________________________\n"
     ]
    }
   ],
   "source": [
    "model.compile(optimizer = 'adam', loss = 'binary_crossentropy', metrics = ['accuracy'])\n",
    "model.summary()"
   ]
  },
  {
   "cell_type": "code",
   "execution_count": 164,
   "metadata": {},
   "outputs": [
    {
     "name": "stdout",
     "output_type": "stream",
     "text": [
      "Epoch 1/10\n",
      "782/782 [==============================] - 69s 86ms/step - loss: 0.6605 - accuracy: 0.5875 - val_loss: 0.4789 - val_accuracy: 0.7774\n",
      "Epoch 2/10\n",
      "782/782 [==============================] - 67s 86ms/step - loss: 0.4778 - accuracy: 0.7855 - val_loss: 0.4484 - val_accuracy: 0.7860\n",
      "Epoch 3/10\n",
      "782/782 [==============================] - 68s 87ms/step - loss: 0.4321 - accuracy: 0.8073 - val_loss: 0.4455 - val_accuracy: 0.7909\n",
      "Epoch 4/10\n",
      "782/782 [==============================] - 71s 90ms/step - loss: 0.4064 - accuracy: 0.8247 - val_loss: 0.4475 - val_accuracy: 0.7909\n",
      "Epoch 5/10\n",
      "782/782 [==============================] - 70s 90ms/step - loss: 0.3819 - accuracy: 0.8369 - val_loss: 0.4648 - val_accuracy: 0.7844\n",
      "Epoch 6/10\n",
      "782/782 [==============================] - 69s 88ms/step - loss: 0.3649 - accuracy: 0.8429 - val_loss: 0.4677 - val_accuracy: 0.7746\n",
      "Epoch 7/10\n",
      "782/782 [==============================] - 71s 90ms/step - loss: 0.3461 - accuracy: 0.8547 - val_loss: 0.4759 - val_accuracy: 0.7873\n",
      "Epoch 8/10\n",
      "782/782 [==============================] - 70s 89ms/step - loss: 0.3343 - accuracy: 0.8601 - val_loss: 0.5023 - val_accuracy: 0.7698\n",
      "Epoch 9/10\n",
      "782/782 [==============================] - 72s 92ms/step - loss: 0.3243 - accuracy: 0.8659 - val_loss: 0.5056 - val_accuracy: 0.7862\n",
      "Epoch 10/10\n",
      "782/782 [==============================] - 70s 90ms/step - loss: 0.3136 - accuracy: 0.8678 - val_loss: 0.5326 - val_accuracy: 0.7776\n"
     ]
    },
    {
     "data": {
      "text/plain": [
       "<matplotlib.legend.Legend at 0x23d4a5c0e08>"
      ]
     },
     "execution_count": 164,
     "metadata": {},
     "output_type": "execute_result"
    },
    {
     "data": {
      "image/png": "[encoded data removed]",
      "text/plain": [
       "<Figure size 432x288 with 1 Axes>"
      ]
     },
     "metadata": {},
     "output_type": "display_data"
    }
   ],
   "source": [
    "epochs = 10\n",
    "\n",
    "H = model.fit(trainData, validation_data = testData, epochs = epochs)\n",
    "\n",
    "plt.style.use('ggplot')\n",
    "plt.figure()\n",
    "plt.plot(np.arange(0, epochs), H.history['loss'], label = 'train_loss')\n",
    "plt.plot(np.arange(0, epochs), H.history['val_loss'], label = 'val_loss')\n",
    "plt.plot(np.arange(0, epochs), H.history['accuracy'], label = 'train_acc')\n",
    "plt.plot(np.arange(0, epochs), H.history['val_accuracy'], label = 'val_acc')\n",
    "    \n",
    "# add labels and legend\n",
    "plt.title('Training Loss and Accuracy')\n",
    "plt.xlabel('Epoch #')\n",
    "plt.ylabel('Loss/Accuracy')\n",
    "plt.legend()"
   ]
  },
  {
   "cell_type": "code",
   "execution_count": 165,
   "metadata": {},
   "outputs": [
    {
     "name": "stdout",
     "output_type": "stream",
     "text": [
      "782/782 [==============================] - 26s 33ms/step - loss: 0.5326 - accuracy: 0.7776\n"
     ]
    },
    {
     "data": {
      "text/plain": [
       "[0.5326470732688904, 0.7775999903678894]"
      ]
     },
     "execution_count": 165,
     "metadata": {},
     "output_type": "execute_result"
    }
   ],
   "source": [
    "model.evaluate(testData)"
   ]
  },
  {
   "cell_type": "code",
   "execution_count": 173,
   "metadata": {
    "tags": []
   },
   "outputs": [
    {
     "name": "stdout",
     "output_type": "stream",
     "text": [
      "Found 25000 files belonging to 2 classes.\n",
      "Found 25000 files belonging to 2 classes.\n"
     ]
    }
   ],
   "source": [
    "# read the directory into memory and clean the text\n",
    "trainData = prepareData('../datasets/imdb/train')\n",
    "testData = prepareData('../datasets/imdb/test')\n",
    "\n",
    "# create a TextVectorization layer to turn input string into a sequence of integers,\n",
    "# each representing one token\n",
    "maxTokens = 1000\n",
    "vectorizeLayer = TextVectorization(max_tokens = maxTokens,\n",
    "                                   output_mode = 'int',\n",
    "                                   output_sequence_length = 100)\n",
    "\n",
    "# adapt() fits the TextVectorization layer to our text dataset. This is when the\n",
    "# the vocabulary is selected.\n",
    "trainText = trainData.map(lambda text, label: text)\n",
    "\n",
    "vectorizeLayer.adapt(trainText)\n",
    "\n",
    "model = Sequential()\n",
    "\n",
    "model.add(Input(shape=(1,), dtype = 'string'))\n",
    "\n",
    "# add layer to the model\n",
    "model.add(vectorizeLayer)\n",
    "\n",
    "# add an embedding layer to turn integers into fixed-length vectors\n",
    "model.add(Embedding(maxTokens + 1, 128))\n",
    "\n",
    "# add a fully-connected recurrent layer\n",
    "model.add(LSTM(64, return_sequences = True))\n",
    "\n",
    "# add a fully-connected recurrent layer\n",
    "model.add(LSTM(64))\n",
    "\n",
    "# add a dense layer\n",
    "model.add(Dense(64, activation = 'relu'))\n",
    "model.add(Dropout(0.5))\n",
    "\n",
    "# add softmax classifier\n",
    "model.add(Dense(1, activation = 'sigmoid'))"
   ]
  },
  {
   "cell_type": "code",
   "execution_count": 174,
   "metadata": {
    "tags": []
   },
   "outputs": [
    {
     "name": "stdout",
     "output_type": "stream",
     "text": [
      "Model: \"sequential_64\"\n",
      "_________________________________________________________________\n",
      "Layer (type)                 Output Shape              Param #   \n",
      "=================================================================\n",
      "text_vectorization_29 (TextV (None, 100)               0         \n",
      "_________________________________________________________________\n",
      "embedding_64 (Embedding)     (None, 100, 128)          128128    \n",
      "_________________________________________________________________\n",
      "lstm_14 (LSTM)               (None, 100, 64)           49408     \n",
      "_________________________________________________________________\n",
      "lstm_15 (LSTM)               (None, 64)                33024     \n",
      "_________________________________________________________________\n",
      "dense_120 (Dense)            (None, 64)                4160      \n",
      "_________________________________________________________________\n",
      "dropout_4 (Dropout)          (None, 64)                0         \n",
      "_________________________________________________________________\n",
      "dense_121 (Dense)            (None, 1)                 65        \n",
      "=================================================================\n",
      "Total params: 214,785\n",
      "Trainable params: 214,785\n",
      "Non-trainable params: 0\n",
      "_________________________________________________________________\n"
     ]
    }
   ],
   "source": [
    "model.compile(optimizer = 'adam', loss = 'binary_crossentropy', metrics = ['accuracy'])\n",
    "model.summary()"
   ]
  },
  {
   "cell_type": "code",
   "execution_count": 175,
   "metadata": {
    "collapsed": true,
    "jupyter": {
     "outputs_hidden": true
    },
    "tags": []
   },
   "outputs": [
    {
     "name": "stdout",
     "output_type": "stream",
     "text": [
      "Epoch 1/10\n",
      "782/782 [==============================] - 97s 121ms/step - loss: 0.5930 - accuracy: 0.6636 - val_loss: 0.4531 - val_accuracy: 0.7901\n",
      "Epoch 2/10\n",
      "782/782 [==============================] - 95s 122ms/step - loss: 0.4504 - accuracy: 0.7960 - val_loss: 0.5014 - val_accuracy: 0.7759\n",
      "Epoch 3/10\n",
      "782/782 [==============================] - 96s 123ms/step - loss: 0.4152 - accuracy: 0.8162 - val_loss: 0.4606 - val_accuracy: 0.7855\n",
      "Epoch 4/10\n",
      "782/782 [==============================] - 96s 123ms/step - loss: 0.3887 - accuracy: 0.8307 - val_loss: 0.5589 - val_accuracy: 0.7642\n",
      "Epoch 5/10\n",
      "782/782 [==============================] - 97s 124ms/step - loss: 0.3840 - accuracy: 0.8360 - val_loss: 0.5009 - val_accuracy: 0.7826\n",
      "Epoch 6/10\n",
      "782/782 [==============================] - 96s 122ms/step - loss: 0.3509 - accuracy: 0.8526 - val_loss: 0.5331 - val_accuracy: 0.7828\n",
      "Epoch 7/10\n",
      "782/782 [==============================] - 96s 122ms/step - loss: 0.3302 - accuracy: 0.8591 - val_loss: 0.5092 - val_accuracy: 0.7831\n",
      "Epoch 8/10\n",
      "782/782 [==============================] - 96s 123ms/step - loss: 0.3188 - accuracy: 0.8664 - val_loss: 0.5381 - val_accuracy: 0.7678\n",
      "Epoch 9/10\n",
      "782/782 [==============================] - 96s 123ms/step - loss: 0.3036 - accuracy: 0.8761 - val_loss: 0.5288 - val_accuracy: 0.7700\n",
      "Epoch 10/10\n",
      "782/782 [==============================] - 96s 123ms/step - loss: 0.3015 - accuracy: 0.8767 - val_loss: 0.5174 - val_accuracy: 0.7747\n"
     ]
    },
    {
     "data": {
      "text/plain": [
       "<matplotlib.legend.Legend at 0x23d47158988>"
      ]
     },
     "execution_count": 175,
     "metadata": {},
     "output_type": "execute_result"
    },
    {
     "data": {
      "image/png": "[encoded data removed]",
      "text/plain": [
       "<Figure size 432x288 with 1 Axes>"
      ]
     },
     "metadata": {},
     "output_type": "display_data"
    }
   ],
   "source": [
    "epochs = 10\n",
    "\n",
    "H = model.fit(trainData, validation_data = testData, epochs = epochs)\n",
    "\n",
    "plt.style.use('ggplot')\n",
    "plt.figure()\n",
    "plt.plot(np.arange(0, epochs), H.history['loss'], label = 'train_loss')\n",
    "plt.plot(np.arange(0, epochs), H.history['val_loss'], label = 'val_loss')\n",
    "plt.plot(np.arange(0, epochs), H.history['accuracy'], label = 'train_acc')\n",
    "plt.plot(np.arange(0, epochs), H.history['val_accuracy'], label = 'val_acc')\n",
    "    \n",
    "# add labels and legend\n",
    "plt.title('Training Loss and Accuracy')\n",
    "plt.xlabel('Epoch #')\n",
    "plt.ylabel('Loss/Accuracy')\n",
    "plt.legend()"
   ]
  },
  {
   "cell_type": "code",
   "execution_count": 176,
   "metadata": {},
   "outputs": [
    {
     "name": "stdout",
     "output_type": "stream",
     "text": [
      "782/782 [==============================] - 34s 43ms/step - loss: 0.5174 - accuracy: 0.7747\n"
     ]
    },
    {
     "data": {
      "text/plain": [
       "[0.51736980676651, 0.7747200131416321]"
      ]
     },
     "execution_count": 176,
     "metadata": {},
     "output_type": "execute_result"
    }
   ],
   "source": [
    "model.evaluate(testData)"
   ]
  },
  {
   "cell_type": "code",
   "execution_count": 177,
   "metadata": {},
   "outputs": [
    {
     "name": "stdout",
     "output_type": "stream",
     "text": [
      "Found 25000 files belonging to 2 classes.\n",
      "Found 25000 files belonging to 2 classes.\n"
     ]
    }
   ],
   "source": [
    "# read the directory into memory and clean the text\n",
    "trainData = prepareData('../datasets/imdb/train')\n",
    "testData = prepareData('../datasets/imdb/test')\n",
    "\n",
    "# create a TextVectorization layer to turn input string into a sequence of integers,\n",
    "# each representing one token\n",
    "maxTokens = 1000\n",
    "vectorizeLayer = TextVectorization(max_tokens = maxTokens,\n",
    "                                   output_mode = 'int',\n",
    "                                   output_sequence_length = 100)\n",
    "\n",
    "# adapt() fits the TextVectorization layer to our text dataset. This is when the\n",
    "# the vocabulary is selected.\n",
    "trainText = trainData.map(lambda text, label: text)\n",
    "\n",
    "vectorizeLayer.adapt(trainText)\n",
    "\n",
    "model = Sequential()\n",
    "\n",
    "model.add(Input(shape=(1,), dtype = 'string'))\n",
    "\n",
    "# add layer to the model\n",
    "model.add(vectorizeLayer)\n",
    "\n",
    "# add an embedding layer to turn integers into fixed-length vectors\n",
    "model.add(Embedding(maxTokens + 1, 128))\n",
    "\n",
    "# add a fully-connected recurrent layer\n",
    "model.add(LSTM(64, return_sequences = True))\n",
    "model.add(Dropout(0.5))\n",
    "\n",
    "# add a fully-connected recurrent layer\n",
    "model.add(Bidirectional(LSTM(64)))\n",
    "model.add(Dropout(0.5))\n",
    "\n",
    "# add a dense layer\n",
    "model.add(Dense(64, activation = 'relu'))\n",
    "model.add(Dropout(0.5))\n",
    "\n",
    "# add softmax classifier\n",
    "model.add(Dense(1, activation = 'sigmoid'))"
   ]
  },
  {
   "cell_type": "code",
   "execution_count": 178,
   "metadata": {
    "collapsed": true,
    "jupyter": {
     "outputs_hidden": true
    }
   },
   "outputs": [
    {
     "name": "stdout",
     "output_type": "stream",
     "text": [
      "Model: \"sequential_65\"\n",
      "_________________________________________________________________\n",
      "Layer (type)                 Output Shape              Param #   \n",
      "=================================================================\n",
      "text_vectorization_30 (TextV (None, 100)               0         \n",
      "_________________________________________________________________\n",
      "embedding_65 (Embedding)     (None, 100, 128)          128128    \n",
      "_________________________________________________________________\n",
      "lstm_16 (LSTM)               (None, 100, 64)           49408     \n",
      "_________________________________________________________________\n",
      "dropout_5 (Dropout)          (None, 100, 64)           0         \n",
      "_________________________________________________________________\n",
      "lstm_17 (LSTM)               (None, 64)                33024     \n",
      "_________________________________________________________________\n",
      "dropout_6 (Dropout)          (None, 64)                0         \n",
      "_________________________________________________________________\n",
      "dense_122 (Dense)            (None, 64)                4160      \n",
      "_________________________________________________________________\n",
      "dropout_7 (Dropout)          (None, 64)                0         \n",
      "_________________________________________________________________\n",
      "dense_123 (Dense)            (None, 1)                 65        \n",
      "=================================================================\n",
      "Total params: 214,785\n",
      "Trainable params: 214,785\n",
      "Non-trainable params: 0\n",
      "_________________________________________________________________\n"
     ]
    }
   ],
   "source": [
    "model.compile(optimizer = 'adam', loss = 'binary_crossentropy', metrics = ['accuracy'])\n",
    "model.summary()"
   ]
  },
  {
   "cell_type": "code",
   "execution_count": 179,
   "metadata": {
    "collapsed": true,
    "jupyter": {
     "outputs_hidden": true
    }
   },
   "outputs": [
    {
     "name": "stdout",
     "output_type": "stream",
     "text": [
      "Epoch 1/10\n",
      "782/782 [==============================] - 101s 125ms/step - loss: 0.6536 - accuracy: 0.5976 - val_loss: 0.4702 - val_accuracy: 0.7821\n",
      "Epoch 2/10\n",
      "782/782 [==============================] - 100s 127ms/step - loss: 0.4780 - accuracy: 0.7828 - val_loss: 0.5056 - val_accuracy: 0.7586\n",
      "Epoch 3/10\n",
      "782/782 [==============================] - 99s 127ms/step - loss: 0.4400 - accuracy: 0.8040 - val_loss: 0.5203 - val_accuracy: 0.7862\n",
      "Epoch 4/10\n",
      "782/782 [==============================] - 99s 127ms/step - loss: 0.4299 - accuracy: 0.8063 - val_loss: 0.4460 - val_accuracy: 0.7972\n",
      "Epoch 5/10\n",
      "782/782 [==============================] - 99s 127ms/step - loss: 0.4005 - accuracy: 0.8226 - val_loss: 0.4415 - val_accuracy: 0.8002\n",
      "Epoch 6/10\n",
      "782/782 [==============================] - 99s 127ms/step - loss: 0.3773 - accuracy: 0.8334 - val_loss: 0.5001 - val_accuracy: 0.7710\n",
      "Epoch 7/10\n",
      "782/782 [==============================] - 100s 127ms/step - loss: 0.3679 - accuracy: 0.8387 - val_loss: 0.4970 - val_accuracy: 0.7867\n",
      "Epoch 8/10\n",
      "782/782 [==============================] - 100s 127ms/step - loss: 0.3488 - accuracy: 0.8495 - val_loss: 0.4847 - val_accuracy: 0.7823\n",
      "Epoch 9/10\n",
      "782/782 [==============================] - 99s 127ms/step - loss: 0.3332 - accuracy: 0.8568 - val_loss: 0.5366 - val_accuracy: 0.7849\n",
      "Epoch 10/10\n",
      "782/782 [==============================] - 100s 128ms/step - loss: 0.3225 - accuracy: 0.8617 - val_loss: 0.5624 - val_accuracy: 0.7802\n"
     ]
    },
    {
     "data": {
      "text/plain": [
       "<matplotlib.legend.Legend at 0x23d4a37ba88>"
      ]
     },
     "execution_count": 179,
     "metadata": {},
     "output_type": "execute_result"
    },
    {
     "data": {
      "image/png": "[encoded data removed]",
      "text/plain": [
       "<Figure size 432x288 with 1 Axes>"
      ]
     },
     "metadata": {},
     "output_type": "display_data"
    }
   ],
   "source": [
    "epochs = 10\n",
    "\n",
    "H = model.fit(trainData, validation_data = testData, epochs = epochs)\n",
    "\n",
    "plt.style.use('ggplot')\n",
    "plt.figure()\n",
    "plt.plot(np.arange(0, epochs), H.history['loss'], label = 'train_loss')\n",
    "plt.plot(np.arange(0, epochs), H.history['val_loss'], label = 'val_loss')\n",
    "plt.plot(np.arange(0, epochs), H.history['accuracy'], label = 'train_acc')\n",
    "plt.plot(np.arange(0, epochs), H.history['val_accuracy'], label = 'val_acc')\n",
    "    \n",
    "# add labels and legend\n",
    "plt.title('Training Loss and Accuracy')\n",
    "plt.xlabel('Epoch #')\n",
    "plt.ylabel('Loss/Accuracy')\n",
    "plt.legend()"
   ]
  },
  {
   "cell_type": "code",
   "execution_count": 180,
   "metadata": {},
   "outputs": [
    {
     "name": "stdout",
     "output_type": "stream",
     "text": [
      "782/782 [==============================] - 35s 44ms/step - loss: 0.5624 - accuracy: 0.78020s - loss: 0.5\n"
     ]
    },
    {
     "data": {
      "text/plain": [
       "[0.5623735189437866, 0.7801600098609924]"
      ]
     },
     "execution_count": 180,
     "metadata": {},
     "output_type": "execute_result"
    }
   ],
   "source": [
    "model.evaluate(testData)"
   ]
  },
  {
   "cell_type": "code",
   "execution_count": 143,
   "metadata": {
    "tags": []
   },
   "outputs": [
    {
     "name": "stdout",
     "output_type": "stream",
     "text": [
      "[[0.00585702]]\n",
      "[[0.93553996]]\n",
      "[[0.94442177]]\n",
      "[[0.97756386]]\n",
      "[[0.00545222]]\n"
     ]
    }
   ],
   "source": [
    "print(model.predict(['Watching this film was the worst experience of my life and I would rather die than watch it again.']))\n",
    "\n",
    "print(model.predict(['The acting is only okay in this movie, but it has an amazing storyline, so I rate it as good but not great.']))\n",
    "\n",
    "print(model.predict(['Dodgeball is my brother\\'s favorite movie, but I hate it']))\n",
    "\n",
    "print(model.predict(['Dodgeball is my brother\\'s favorite movie and it has its moments, but I think the comedy is sophomoric and crude. The acting is great, but the writing is subpar. Overall, I would rate this movie 2/10.']))\n",
    "\n",
    "print(model.predict(['I love Nicholas Cage, but this movie is horrible. NOT THE BEES.']))"
   ]
  },
  {
   "cell_type": "code",
   "execution_count": 2,
   "metadata": {},
   "outputs": [],
   "source": [
    "# delete the unzipped imdb dataset (this is just so I can upload to GitHub efficiently)\n",
    "if os.path.isfile('../datasets/imdb/README'):\n",
    "    shutil.rmtree('../datasets/imdb')"
   ]
  },
  {
   "cell_type": "code",
   "execution_count": null,
   "metadata": {},
   "outputs": [],
   "source": []
  }
 ],
 "metadata": {
  "kernelspec": {
   "display_name": "Python 3 (ipykernel)",
   "language": "python",
   "name": "python3"
  },
  "language_info": {
   "codemirror_mode": {
    "name": "ipython",
    "version": 3
   },
   "file_extension": ".py",
   "mimetype": "text/x-python",
   "name": "python",
   "nbconvert_exporter": "python",
   "pygments_lexer": "ipython3",
   "version": "3.9.6"
  }
 },
 "nbformat": 4,
 "nbformat_minor": 4
}
