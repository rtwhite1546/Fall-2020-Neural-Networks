{
 "cells": [
  {
   "cell_type": "markdown",
   "metadata": {},
   "source": [
    "# Classification Problems\n",
    "\n",
    "**Classification problems** are problems where we would like to take datapoints and assign them to an appropriate **class** based on some examples that have known classes.\n",
    "\n",
    "## Examples\n",
    "\n",
    "* If we have a dataset of medical records where each datapoint has a single patient's age, weight, blood pressure, status as a smoker or not, and other information and each patient is known to either have or not have kidney disease. We might want take data from a new patient and predict if he or she is likely to develop kidney disease.\n",
    "\n",
    "* If we have a dataset of labeled images of cat and dogs, we might want to take a new image and classify whether it has a dog or a cat. (How does Google image search know how to find pictures of what you search?)\n",
    "\n",
    "* If we have a dataset of audio files, each of which is a jazz, classical, rock, pop, or hip-hop song, we might want to predict the genre of a new audio file. (Spotify does this kind of analysis to recommend songs based on your listening history.)\n",
    "\n",
    "* If we have a dataset of traffic logs on a network, some known to be infected by a specific virus and some are not, we might want to use this information to classify a new traffic log as likely to be infected or not.\n",
    "\n",
    "* If we have a dataset of sounds of people speaking along with transcripts of the words, we might want to classify the words spoken into a microphone. (Think Siri!)\n",
    "\n",
    "In all of these cases, the information can be represented as a point in the $n$-dimensional real space.\n",
    "\n",
    "* The medical records would have numbers for age, weight, and blood pressure and a binary digit for non-smoker or smoker.\n",
    "\n",
    "<img src=\"images/medicalRecords.png\" />\n",
    "\n",
    "* The dog/cat images might have three channels for a picture, meaning three numbers for each pixel (the red, green, and blue levels) like the bird picture below.\n",
    "\n",
    "<img src=\"images/birdRGB.png\" />\n",
    "\n",
    "* The audio files might have numbers specifying the type of sound for the song many times per second.\n",
    "\n",
    "<img src=\"images/audioFile.png\" />\n",
    "\n",
    "* The network traffic logs might have numbers of packets transferred, file size, ports, addresses, the content of the packets, etc.\n",
    "\n",
    "* The audio files might have numbers specifying the type of sound for a word many times per second.\n",
    "\n",
    "<img src=\"images/audioWords.png\" />\n",
    "The blue lines indicate the beginning of a word and the red lines indicate the ends of words.\n",
    "\n",
    "In all mature applications, there are likely preprocessing steps done before the classification is done.\n",
    "\n",
    "I chose these applications to demonstrate two things: (1) classification problems are interesting and useful in almost every area of study and (2) a huge class of classification problems have much in common mathematically. All apply to datapoints, although some types of data may have far more dimensions than others--a medical record may only have 10 to 12 numbers, but a 12-megapixel photo from the latest iPhone would have $4,000\\times 3,000\\times 3=36,000,000$ numbers, 3 for each pixel).\n",
    "\n",
    "## The Math of a Classification Problem\n",
    "\n",
    "To exploit the similarities, let's abstract away the specifics of the applications for now and think about how to describe a classification problem mathematically. Consider a $d$-dimensional point, or vector, $x_1\\in\\mathbb{R}^d$ and denote $x=(x_{11},x_{12},...,x_{1d})$. $x$ is a member one of $k$ classes $C=\\{c_1, c_2, ..., c_k\\}$. We call the point $x_1$ an **example** and we call the class the **label** of $x_1$.\n",
    "\n",
    "The goal of a classification problem is to find a function $f:\\mathbb{R}^d\\to C$ mapping each example $x_1$ to its class $y_1=f(x_1)$ and will generalize to successfully classify new, unlabeled datapoints with high accuracy.\n",
    "\n",
    "This will segment the space $\\mathbb{R}^d$ into sets $C_j=\\{x_1\\in\\mathbb{R}^d | f(x_1)=c_j\\}$ corresponding to each class. In the image below, for example, the space $\\mathbb{R}^2$ is partitioned into three sets colored red, blue, and green.\n",
    "\n",
    "<img src=\"images/knnTessellation.png\" />\n",
    "The colored points are labeled examples and the $\\mathbb{R}^2$ space is colored by the class to be assigned to points in different regions. (image from Wikipedia)\n",
    "\n",
    "### Classification Algorithms\n",
    "\n",
    "There are many algorithms used for classification. Some of the most popular include\n",
    "\n",
    "* $k$-nearest neighbor classifier\n",
    "* support vector classifier\n",
    "* naive Bayes classifier\n",
    "* decision trees\n",
    "* logistic regression\n",
    "* neural networks (many types)\n",
    "\n",
    "as well as tree-based algorithms that systematically apply an ensemble of different classifiers.\n",
    "\n",
    "This course focuses on neural networks, which presently outperform other methods on large datasets, and especially for classifying high-dimensional data like images. However, I recommend using the simpler methods as benchmarks for classification problems before using neural networks because they generally require far less computation. Beyond that, it is helpful to start with a simpler algorithm to build some understanding of the norms of machine learning because much of these ideas are used in all classification problems.\n",
    "\n",
    "Any of the methods above are good choices, but we only consider the simplest of all, the $k$-nearest neighbor classifier before continuing to neural networks. My hope is that you will build enough understanding of classification problems that you will easily be able to deploy any algorithm you choose."
   ]
  },
  {
   "cell_type": "markdown",
   "metadata": {},
   "source": [
    "# k-Nearest Neighbors Classifier\n",
    "\n",
    "The $k$-nearest neighbor classifier tries to classify numerical examples into categories. Suppose we have some labeled examples $x_1, ..., x_n\\in\\mathbb{R}^d$ with labels $y_1, ..., y_n$. If we have a new, unlabeled point $x$, we would like to predict its class label. The idea of the $k$-nearest neighbor algorithm is that we take the $k$ labeled examples nearest to $x$ and assign the most frequent class of these nearest \"neighbors\" to $x$.\n",
    "\n",
    "## Distance Metrics\n",
    "\n",
    "Let $d(x_1,x_2)=\\|x_1-x_2\\|$ be the distance from $x_1$ to $x_2$. The specific formula we use is called the **distance metric** and the function $\\|\\cdot\\|:\\mathbb{R}^d\\to[0,\\infty)$ is called a **norm**. The most used norms are from the family of $L^p$ distances for each number $p>0$. (Note that mathematicians would likely refer to this as simply the $p$-norm for a finite dimensional space.) Distances between points are computed with the $L^p$-norm as\n",
    "\n",
    "$$\\left\\|x_1-x_2\\right\\|_p =\\left(\\sum\\limits_{i=1}^d |x_{1i}-x_{2i}|^p\\right)^{1/p}$$\n",
    "\n",
    "* If $p=1$, we get what is called the **taxi-cab** or **Manhattan distance** because, geometrically, the distance from (4, 6) to (8, 15) is the distance to drive along city blocks from 4th street and 6th avenue to 8th street and 15th avenue. It is computed as\n",
    "\n",
    "$$\\left\\|x_1-x_2\\right\\|_1= \\left|x_{11}-x_{21}\\right|+\\cdots+\\left|x_{1d}-x_{2d}\\right|$$\n",
    "\n",
    "* If $p=2$, we get the familiar **Euclidean distance**, the straight-line distance in flat space you have certainly encountered in elementary algebra and calculus courses,\n",
    "\n",
    "$$\n",
    "\\left\\|x_1-x_2\\right\\|_2=\\sqrt{\\left(x_{11}-x_{21}\\right)^2+\\cdots+\\left(x_{1d}-x_{2d}\\right)^2}$$\n",
    "\n",
    "* If $p=\\infty$, we get what is called the **supremum** or **maximum distance** and it is calculated as\n",
    "\n",
    "$$\\left\\|x_1-x_2\\right\\|_\\infty= \\max\\limits_{i=1,...,d}\\left|x_{1i}-x_{2i}\\right|=\\max\\{|x_{11}-x_{21}|, ..., |x_{1d}-x_{2d}|\\}$$\n",
    "\n",
    "For now, let's use the Euclidean distance because it is intuitive if for no other reason, but any of these $L^p$ norms may be used as can any other <a href=\"https://en.wikipedia.org/wiki/Norm_(mathematics)#Definition\">norm</a> (see 2.5 in Goodfellow et. al.).\n",
    "\n",
    "## The Procedure to Classify an Example $x$ with $k$-Nearest Neighbors\n",
    "\n",
    "1. Choose a positive integer for $k$.\n",
    "\n",
    "1. Find the distances $\\left\\|x-x_j\\right\\|$ for each $j=1,...,n$ with any norm you choose.\n",
    "\n",
    "1. Find the points with the $k$ shortest distances from $x$ (the $k$ nearest \"neighbors\").\n",
    "\n",
    "1. Assign the most frequent class among the $k$ nearest neighbors to $x$\n",
    "\n",
    "This means we need to make only two decisions two use the $k$-nearest neighbors: we need to choose a norm and we need to choose the number of neighbors $k$ to use. Customizable parameters for a machine learning method like this $k$-nearest neighbor classifier are called **hyperparameters**. It is not generally obvious how to choose these hyperparameters and it tends to be pretty experimental. Tuning hyperparameters is a large part of machine learning.\n",
    "\n",
    "## Training a Classifier\n",
    "\n",
    "If we have a dataset of labeled data, a very common approach is to split the dataset into two parts: the training set and the testing set. We remove the labels from the testing set, \"train\" the classifier with the training set, and use the resulting model to attempt to classify the testing set.\n",
    "\n",
    "This way, we can measure the success of our classifier on data it has never seen (the testing set). Once we become confident our classifier works well in this way, we can be more confident about the success of the classifier in the real-world.\n",
    "\n",
    "My preferred approach is to use the <a href=\"https://scikit-learn.org/stable/modules/generated/sklearn.model_selection.train_test_split.html\">train_test_split</a> function from the <a href=\"https://scikit-learn.org/stable/modules/classes.html#module-sklearn.model_selection\">scikit-learn.model_selection</a> library to randomly assign a specified percentage (usually 50-75%) of the dataset to the training set and the rest to the testing set.\n",
    "\n",
    "## $k$-Nearest Neighbor Code\n",
    "\n",
    "Let's write some code. I will use the style used by the popular machine learning library <a href=\"https://scikit-learn.org/stable/\">scikit-learn</a>, where a classifier is written as a class in the programming sense (not to be confused with the \"classes\" of our classification problem) with hyperparameters as inputs. The classifier's class will have some functions that fit the model to the data and predict the class of input datapoints.\n",
    "\n",
    "The 'fit' function for the $k$-nearest neighbors will do very little but record some data. The 'predict' function will carry out steps 1-4 above.\n",
    "\n",
    "First, we import some things we will use.\n",
    "\n",
    "* <a href=\"https://numpy.org/\">NumPy</a> - a package for computing in Python\n",
    "\n",
    "* <a href=\"https://matplotlib.org\">matplotlib</a> - a library for plotting similarly to MATLAB\n",
    "\n",
    "* <a href=\"https://www.scipy.org/\">SciPy</a> - a library for scientific computing in Python (we import a function to find modes)\n",
    "\n",
    "* <a href=\"https://scikit-learn.org/\">scikit-learn</a> - a library for machine learning (we import functions for splitting data into training and testing data and for measuring success of a classifier as well as an implementation of the $k$-nearest neighbors classifier)\n",
    "\n",
    "* <a href=\"https://www.tensorflow.org/\">TensorFlow</a> - a framework for deep learning (we only import some datasets)"
   ]
  },
  {
   "cell_type": "code",
   "execution_count": 1,
   "metadata": {},
   "outputs": [],
   "source": [
    "import numpy as np\n",
    "from scipy.stats import mode\n",
    "from sklearn.model_selection import train_test_split\n",
    "from sklearn.metrics import classification_report\n",
    "from sklearn.metrics import accuracy_score\n",
    "import matplotlib.pyplot as plt\n",
    "from sklearn.neighbors import KNeighborsClassifier\n",
    "from tensorflow.keras.datasets import mnist\n",
    "from tensorflow.keras.datasets import cifar10\n",
    "\n",
    "# increase the width of boxes in the notebook file (this is only cosmetic)\n",
    "np.set_printoptions(linewidth=180)"
   ]
  },
  {
   "cell_type": "markdown",
   "metadata": {},
   "source": [
    "Next, let's write a Python class for the $k$-nearest neighbor classifier using only the Euclidean norm for distance calculations.\n",
    "\n",
    "We need to store the datapoints of the training set in a data structure. In most of the course, we will be converting datapoints into vectors, which we will store as rows of a data matrix we will generally call $X$:\n",
    "\n",
    "$$\n",
    "\\begin{align*}\n",
    "X = \\begin{pmatrix}\n",
    "x_1^T\\\\\n",
    "x_2^T\\\\\n",
    "\\vdots \\\\\n",
    "x_n^T\n",
    "\\end{pmatrix}\n",
    "= \\begin{pmatrix}\n",
    "x_{11} & x_{12} & \\cdots & x_{1d}\\\\\n",
    "x_{21} & x_{22} & \\cdots & x_{2d}\\\\\n",
    "\\vdots & \\vdots & \\ddots & \\vdots\\\\\n",
    "x_{n1} & x_{n2} & \\cdots & x_{nd}\n",
    "\\end{pmatrix}\n",
    "\\end{align*}\n",
    "$$\n",
    "\n",
    "Note that each *row* contains all the data from a single datapoint while each *column* contains the data from a single variable (or feature) for all datapoints. Therefore, we will iterate over the rows when we find the distances to our input datapoint to each other datapoint."
   ]
  },
  {
   "cell_type": "code",
   "execution_count": 13,
   "metadata": {},
   "outputs": [],
   "source": [
    "# Create a class for the k-nearest neighbor classifier\n",
    "class kNearestNeighborClassifier:\n",
    "    # constructor to save the hyperparameter k\n",
    "    def __init__(self, k = 5):\n",
    "        # initialize the number of neighbors to use\n",
    "        self.neighbors = k\n",
    "        \n",
    "        # print a warning if k is even\n",
    "        #if k % 2 == 0:\n",
    "        #    print('[WARNING] An odd number is recommended for k to avoid tie votes in the kNN classifier.')\n",
    "    \n",
    "    # fit the model to the training data (for kNN, there's no actual fitting involved)\n",
    "    def fit(self, X, y):\n",
    "        '''\n",
    "        Record the class labels for training data\n",
    "        \n",
    "        Inputs\n",
    "        ------\n",
    "        \n",
    "        X: a matrix of datapoints from the training data, each row is a point\n",
    "        y: a vector of labels for each datapoint\n",
    "        \n",
    "        '''\n",
    "        \n",
    "        # record the unique class labels\n",
    "        self.classes = np.unique(y)\n",
    "        \n",
    "        # print a warning if we only input one class\n",
    "        if self.classes.shape[0] < 2:\n",
    "            print('[WARNING] There should be at least two classes in the input data.')\n",
    "            \n",
    "        # record the data and labels\n",
    "        self.data = X\n",
    "        self.labels = y\n",
    "    \n",
    "    # use the classifier to predict the classifications of the testing data\n",
    "    def predict(self, X):\n",
    "        '''\n",
    "        Predict the class labels for the input data\n",
    "        \n",
    "        Inputs\n",
    "        ------\n",
    "        \n",
    "        X: a matrix of datapoints from the testing data, each row is a point\n",
    "        \n",
    "        Outputs\n",
    "        -------\n",
    "        \n",
    "        classes: the class predicted by the k-nearest neighbor classifier for each testing datapoint\n",
    "        \n",
    "        '''\n",
    "        # initialize the predicted classes\n",
    "        yPredicted = np.empty([X.shape[0],1])\n",
    "        \n",
    "        # loop over the datapoints in X\n",
    "        for row in range(X.shape[0]):\n",
    "            datapoint = X[row,]\n",
    "            \n",
    "            # find the distances from the datapoint to each training point using the L2 norm\n",
    "            distances = np.sqrt(np.sum(((self.data - datapoint)**2), axis = 1))\n",
    "            \n",
    "            # find the indices of the smallest k distances\n",
    "            indices = np.argsort(distances)[:self.neighbors]\n",
    "            \n",
    "            # find the the class labels of the nearest neighbors\n",
    "            nearestClasses = self.labels[indices]\n",
    "            \n",
    "            # determine the predicted class by finding the mode\n",
    "            yPredicted[row] = int(mode(nearestClasses)[0][0])\n",
    "            \n",
    "        return yPredicted"
   ]
  },
  {
   "cell_type": "markdown",
   "metadata": {},
   "source": [
    "Let's make up some data and run the algorithm.\n",
    "\n",
    "## Example: 2D Data"
   ]
  },
  {
   "cell_type": "code",
   "execution_count": 14,
   "metadata": {},
   "outputs": [
    {
     "name": "stdout",
     "output_type": "stream",
     "text": [
      "[0. 0. 1. 0.]\n",
      "[1 1 1 0]\n"
     ]
    }
   ],
   "source": [
    "# AN EXAMPLE WITH MANUALLY INPUT DATA\n",
    "\n",
    "# create training data (n=2)\n",
    "trainX = np.array([[1, 2], [3, 4], [-1, 3], [4, 2], [2, 2], [1, 1], [2, 3], [3, 3]])\n",
    "trainY = np.array([1, 0, 1, 1, 0, 0, 1, 0])\n",
    "\n",
    "# create testing data\n",
    "testX = np.array([[4, 3], [0, 0], [1, 4], [2, 1]])\n",
    "testY = np.array([1, 1, 1, 0])\n",
    "\n",
    "# plot the training set\n",
    "#plt.scatter(trainX[:,0], trainX[:,1], c = trainY, marker = '.')\n",
    "#plt.scatter(testX[:,0],testX[:,1], marker='o')\n",
    "\n",
    "# fit the model to the training data\n",
    "model = kNearestNeighborClassifier(k = 3)\n",
    "model.fit(trainX, trainY)\n",
    "\n",
    "# predict the labels for the test dataset\n",
    "predictions = model.predict(testX)\n",
    "\n",
    "# print the predicted labels\n",
    "print(predictions.T[0])\n",
    "\n",
    "# print the real labels\n",
    "print(testY)"
   ]
  },
  {
   "cell_type": "markdown",
   "metadata": {},
   "source": [
    "As we see, our classifier is not very good at all here. The last two are correct, but the first two are incorrect. Not a great result, but it does confirm the code at least returns a valid attempt. This prompts a new question: how do we measure the success of a classifier?"
   ]
  },
  {
   "cell_type": "markdown",
   "metadata": {},
   "source": [
    "## Measuring Success\n",
    "\n",
    " For a specific class labeled 1, we denote\n",
    "\n",
    "$c_{00}$ is the number of test examples in class 0 classified in class 0 (true negatives)\n",
    "\n",
    "$c_{01}$ is the number of test examples in class 0 classified in class 1 (false positives)\n",
    "\n",
    "$c_{10}$ is the number of test examples in class 1 classified in class 0 (false negatives)\n",
    "\n",
    "$c_{11}$ is the number of test examples in class 1 classified in class 1 (true positives)\n",
    "\n",
    "These numbers are sometimes included in what is called a **confusion matrix**\n",
    "\n",
    "$$\n",
    "\\begin{align}\n",
    "\\begin{pmatrix}\n",
    "c_{00} & c_{01} \\\\\n",
    "c_{10} & c_{11}\n",
    "\\end{pmatrix}\n",
    "\\end{align}\n",
    "$$\n",
    "\n",
    "There are a few different measures of success in common usage. Each one can be computed for each class.\n",
    "\n",
    "* Accuracy\n",
    "\n",
    "$$\n",
    "\\begin{align}\n",
    "\\text{Accuracy}=\\frac{\\text{# of true classifications}}{\\text{# of test examples}}=\\frac{c_{00}+c_{11}}{c_{00}+c_{01}+c_{10}+c_{11}}\n",
    "\\end{align}\n",
    "$$\n",
    "\n",
    "\n",
    "\n",
    "* Precision\n",
    "\n",
    "$$\n",
    "\\begin{align}\n",
    "\\text{Precision}=\\frac{\\text{# of true positives}}{\\text{# of positive classifications}}=\\frac{c_{11}}{c_{01}+c_{11}}\n",
    "\\end{align}\n",
    "$$\n",
    "\n",
    "* Recall\n",
    "\n",
    "$$\n",
    "\\begin{align}\n",
    "\\text{Recall}=\\frac{\\text{# of true positives}}{\\text{# of positive examples}}=\\frac{c_{11}}{c_{10}+c_{11}}\n",
    "\\end{align}\n",
    "$$\n",
    "\n",
    "* F1 Score\n",
    "\n",
    "$$\n",
    "\\begin{align}\n",
    "F_1=\\frac{2\\text{(precision)(recall)}}{\\text{precision + recall}}\n",
    "\\end{align}\n",
    "$$\n",
    "\n",
    "It is convenient to use the <a href=\"https://scikit-learn.org/stable/modules/generated/sklearn.metrics.classification_report.html\">classification_report</a> function from the <a href=\"https://scikit-learn.org/stable/modules/classes.html#module-sklearn.metrics\">sklearn.metrics</a> module with inputs of the test set labels and then the labels predicted by the classifier. This will return the precision and recall for each class, accuracy, and some additional quality metrics."
   ]
  },
  {
   "cell_type": "code",
   "execution_count": 15,
   "metadata": {},
   "outputs": [
    {
     "name": "stdout",
     "output_type": "stream",
     "text": [
      "              precision    recall  f1-score   support\n",
      "\n",
      "           0       0.33      1.00      0.50         1\n",
      "           1       1.00      0.33      0.50         3\n",
      "\n",
      "    accuracy                           0.50         4\n",
      "   macro avg       0.67      0.67      0.50         4\n",
      "weighted avg       0.83      0.50      0.50         4\n",
      "\n"
     ]
    }
   ],
   "source": [
    "# print the classification performance on the test set\n",
    "print(classification_report(testY, predictions))"
   ]
  },
  {
   "cell_type": "markdown",
   "metadata": {},
   "source": [
    "## Example: Randomly Generated 2D \n",
    "\n",
    "Let's try a larger scale, but somewhat artificial problem. Let's randomly generate three sets of points, each with a previously-chosen probability distribution, and see if we can reverse-engineer the points to classify which distribution they came from.\n",
    "\n",
    "As is common in machine learning, we will set up a test for ourselves: we will randomly split the data into training (maintaining the labels) and test sets (setting aside the labels), fit the model to the labeled training data, and then see how well it can classify the test data."
   ]
  },
  {
   "cell_type": "code",
   "execution_count": 16,
   "metadata": {},
   "outputs": [
    {
     "name": "stdout",
     "output_type": "stream",
     "text": [
      "[[ 2.63214665 -2.36792893]\n",
      " [-2.18102794 -3.39923078]\n",
      " [ 0.93511029 -6.14639698]\n",
      " ...\n",
      " [ 2.37733458  7.83355362]\n",
      " [-0.60402723  6.09465354]\n",
      " [ 2.10111185  6.4989797 ]]\n",
      "              precision    recall  f1-score   support\n",
      "\n",
      "           0       0.72      0.77      0.74       120\n",
      "           1       0.83      0.75      0.79       127\n",
      "           2       0.88      0.91      0.90       128\n",
      "\n",
      "    accuracy                           0.81       375\n",
      "   macro avg       0.81      0.81      0.81       375\n",
      "weighted avg       0.81      0.81      0.81       375\n",
      "\n"
     ]
    },
    {
     "data": {
      "image/png": "[encoded data removed]",
      "text/plain": [
       "<Figure size 432x288 with 1 Axes>"
      ]
     },
     "metadata": {
      "needs_background": "light"
     },
     "output_type": "display_data"
    }
   ],
   "source": [
    "# AN EXAMPLE WITH RANDOMLY GENERATED POINTS\n",
    "\n",
    "# set the seed so the code is reproducible\n",
    "np.random.seed(1)\n",
    "\n",
    "# number of points to generate\n",
    "numberOfPoints = 500\n",
    "\n",
    "# generate points from class 0\n",
    "mean1 = np.array([-1, -1])\n",
    "covariance1 = np.array([[5, 0], [0, 5]])\n",
    "X1 = np.random.multivariate_normal(mean1, covariance1, numberOfPoints)\n",
    "\n",
    "# generate points from class 1\n",
    "mean2 = np.array([3, 3])\n",
    "covariance2 = np.array([[5, 3], [3, 5]])\n",
    "X2 = np.random.multivariate_normal(mean2, covariance2, numberOfPoints)\n",
    "\n",
    "# generate points from class 2\n",
    "mean3 = np.array([-2, 5])\n",
    "covariance3 = np.array([[5, 3], [3, 5]])\n",
    "X3 = np.random.multivariate_normal(mean3, covariance3, numberOfPoints)\n",
    "\n",
    "# stack the points\n",
    "X = np.vstack((X1, X2, X3))\n",
    "\n",
    "# create a vector of the labels\n",
    "Y = np.hstack((numberOfPoints * [0], numberOfPoints * [1], numberOfPoints * [2]))\n",
    "\n",
    "# let's make sure the points are 2D points as we intended\n",
    "print(X)\n",
    "\n",
    "# randomly choose 75% of the data to be the training set and 25% for the testing set\n",
    "(trainX, testX, trainY, testY) = train_test_split(X, Y, test_size = 0.25, random_state = 1)\n",
    "\n",
    "# plot the training set\n",
    "plt.scatter(trainX[:,0], trainX[:,1], c = trainY, marker = '.')\n",
    "\n",
    "# fit the model to the training data\n",
    "model = kNearestNeighborClassifier(k = 3)\n",
    "model.fit(trainX,trainY)\n",
    "\n",
    "# print the classification performance\n",
    "from sklearn.metrics import classification_report\n",
    "print(classification_report(testY, model.predict(testX)))"
   ]
  },
  {
   "cell_type": "markdown",
   "metadata": {},
   "source": [
    "The plot color-codes the predetermined classes, and it is easy to see that there is some structure to the classes, although the points do overlap, so drawing the decision boundaries as in the previous colored diagram is not especially easy here. Nevertheless, the simple $k$-nearest neighbor classifier is 81% accurate."
   ]
  },
  {
   "cell_type": "code",
   "execution_count": 17,
   "metadata": {},
   "outputs": [
    {
     "name": "stdout",
     "output_type": "stream",
     "text": [
      "              precision    recall  f1-score   support\n",
      "\n",
      "           0       0.72      0.77      0.74       120\n",
      "           1       0.83      0.75      0.79       127\n",
      "           2       0.88      0.91      0.90       128\n",
      "\n",
      "    accuracy                           0.81       375\n",
      "   macro avg       0.81      0.81      0.81       375\n",
      "weighted avg       0.81      0.81      0.81       375\n",
      "\n"
     ]
    }
   ],
   "source": [
    "# Confirming our results match scikit-learn\n",
    "from sklearn.neighbors import KNeighborsClassifier\n",
    "\n",
    "model = KNeighborsClassifier(n_neighbors = 3)\n",
    "\n",
    "model.fit(trainX,trainY)\n",
    "\n",
    "print(classification_report(testY, model.predict(testX)))"
   ]
  },
  {
   "cell_type": "markdown",
   "metadata": {},
   "source": [
    "We see our quickly-constructed algorithm works as well as the implementation from scikit-learn."
   ]
  },
  {
   "cell_type": "markdown",
   "metadata": {},
   "source": [
    "## Example: Handwritten Digits\n",
    "\n",
    "The Modified National Institute of Standards and Technology (MNIST) database contains 70,000 grayscale labeled images (each 28-by-28 pixels) of handwritten digits from US Census Bureau employees and high school students. Classifying the MNIST database is a common benchmark for machine learning techniques.\n",
    "\n",
    "<img src='images/mnist.png' />\n",
    "\n",
    "MNIST along with many other commonly-used datasets are available in the <a href=\"https://www.tensorflow.org/api_docs/python/tf/keras/datasets\">tensorflow.keras.datasets</a> module. The first time you use the load_data() function, it will download the dataset, but any subsequent runs will just read it from the hard drive, if it has been downloaded before, so it runs much faster."
   ]
  },
  {
   "cell_type": "code",
   "execution_count": 4,
   "metadata": {},
   "outputs": [],
   "source": [
    "# load the MNIST data\n",
    "from tensorflow.keras.datasets import mnist\n",
    "mnistData = mnist.load_data()"
   ]
  },
  {
   "cell_type": "markdown",
   "metadata": {},
   "source": [
    "Let's take a look at the data (press 'q' to iterate to the next image)."
   ]
  },
  {
   "cell_type": "code",
   "execution_count": 5,
   "metadata": {},
   "outputs": [
    {
     "name": "stdout",
     "output_type": "stream",
     "text": [
      "The label is 4\n",
      "[[0.   0.   0.   0.   0.   0.   0.   0.   0.   0.   0.   0.   0.   0.   0.   0.   0.   0.   0.   0.   0.   0.   0.   0.   0.   0.   0.   0.  ]\n",
      " [0.   0.   0.   0.   0.   0.   0.   0.   0.   0.   0.   0.   0.   0.   0.   0.   0.   0.   0.   0.   0.   0.   0.   0.   0.   0.   0.   0.  ]\n",
      " [0.   0.   0.   0.   0.   0.   0.   0.   0.   0.   0.   0.   0.   0.   0.   0.   0.   0.   0.   0.   0.   0.   0.   0.   0.   0.   0.   0.  ]\n",
      " [0.   0.   0.   0.   0.   0.   0.   0.   0.   0.   0.   0.   0.   0.   0.   0.   0.   0.   0.   0.   0.   0.   0.   0.   0.   0.   0.   0.  ]\n",
      " [0.   0.   0.   0.   0.   0.   0.   0.   0.   0.   0.   0.   0.   0.   0.   0.   0.   0.   0.   0.   0.   0.   0.74 0.75 0.   0.   0.   0.  ]\n",
      " [0.   0.   0.   0.   0.   0.   0.   0.   0.   0.   0.   0.   0.   0.   0.   0.   0.   0.   0.   0.   0.   0.56 0.97 0.6  0.   0.   0.   0.  ]\n",
      " [0.   0.   0.   0.   0.   0.   0.   0.   0.   0.   0.   0.   0.   0.   0.   0.   0.   0.   0.   0.   0.53 0.97 0.95 0.34 0.   0.   0.   0.  ]\n",
      " [0.   0.   0.   0.   0.   0.   0.   0.   0.   0.   0.   0.   0.   0.   0.   0.   0.   0.   0.   0.   0.75 0.99 0.73 0.   0.   0.   0.   0.  ]\n",
      " [0.   0.   0.   0.   0.   0.   0.   0.   0.   0.   0.   0.   0.24 0.73 0.07 0.   0.   0.   0.   0.35 0.93 0.85 0.18 0.   0.   0.   0.   0.  ]\n",
      " [0.   0.   0.   0.   0.   0.   0.   0.   0.   0.   0.   0.   0.85 0.99 0.24 0.   0.   0.   0.   0.83 1.   0.32 0.   0.   0.   0.   0.   0.  ]\n",
      " [0.   0.   0.   0.   0.   0.   0.   0.   0.   0.   0.   0.   0.81 0.99 0.27 0.   0.   0.   0.19 0.95 0.99 0.35 0.   0.   0.   0.   0.   0.  ]\n",
      " [0.   0.   0.   0.   0.   0.   0.   0.   0.   0.   0.   0.51 0.98 0.83 0.08 0.   0.   0.04 0.65 0.99 0.77 0.02 0.   0.   0.   0.   0.   0.  ]\n",
      " [0.   0.   0.   0.   0.   0.   0.   0.   0.   0.   0.11 0.91 0.97 0.25 0.   0.   0.   0.6  0.99 0.89 0.   0.   0.   0.   0.   0.   0.   0.  ]\n",
      " [0.   0.   0.   0.   0.   0.   0.   0.   0.   0.18 0.86 0.99 0.56 0.   0.   0.   0.45 0.98 0.99 0.4  0.   0.   0.   0.   0.   0.   0.   0.  ]\n",
      " [0.   0.   0.   0.   0.   0.   0.   0.02 0.38 0.99 1.   0.99 0.78 0.48 0.03 0.1  0.79 0.98 0.62 0.   0.   0.   0.   0.   0.   0.   0.   0.  ]\n",
      " [0.   0.   0.   0.   0.   0.   0.   0.36 0.99 0.99 0.99 0.85 0.99 0.99 0.78 0.89 0.99 0.91 0.   0.   0.   0.   0.   0.   0.   0.   0.   0.  ]\n",
      " [0.   0.   0.   0.   0.   0.   0.34 0.98 0.97 0.91 0.25 0.19 0.74 0.99 0.99 0.99 0.99 0.98 0.89 0.14 0.   0.   0.   0.   0.   0.   0.   0.  ]\n",
      " [0.   0.   0.   0.   0.   0.   0.75 0.87 0.38 0.   0.   0.   0.16 0.77 0.99 0.99 0.99 0.99 0.64 0.   0.   0.   0.   0.   0.   0.   0.   0.  ]\n",
      " [0.   0.   0.   0.   0.   0.   0.44 0.11 0.   0.   0.   0.   0.24 0.94 0.99 0.34 0.16 0.16 0.05 0.   0.   0.   0.   0.   0.   0.   0.   0.  ]\n",
      " [0.   0.   0.   0.   0.   0.   0.   0.   0.   0.   0.   0.06 0.58 0.99 0.85 0.   0.   0.   0.   0.   0.   0.   0.   0.   0.   0.   0.   0.  ]\n",
      " [0.   0.   0.   0.   0.   0.   0.   0.   0.   0.   0.   0.47 0.99 0.91 0.11 0.   0.   0.   0.   0.   0.   0.   0.   0.   0.   0.   0.   0.  ]\n",
      " [0.   0.   0.   0.   0.   0.   0.   0.   0.   0.   0.12 0.87 0.98 0.51 0.   0.   0.   0.   0.   0.   0.   0.   0.   0.   0.   0.   0.   0.  ]\n",
      " [0.   0.   0.   0.   0.   0.   0.   0.   0.   0.   0.85 0.99 0.63 0.   0.   0.   0.   0.   0.   0.   0.   0.   0.   0.   0.   0.   0.   0.  ]\n",
      " [0.   0.   0.   0.   0.   0.   0.   0.   0.   0.   0.48 0.99 0.32 0.   0.   0.   0.   0.   0.   0.   0.   0.   0.   0.   0.   0.   0.   0.  ]\n",
      " [0.   0.   0.   0.   0.   0.   0.   0.   0.   0.   0.   0.   0.   0.   0.   0.   0.   0.   0.   0.   0.   0.   0.   0.   0.   0.   0.   0.  ]\n",
      " [0.   0.   0.   0.   0.   0.   0.   0.   0.   0.   0.   0.   0.   0.   0.   0.   0.   0.   0.   0.   0.   0.   0.   0.   0.   0.   0.   0.  ]\n",
      " [0.   0.   0.   0.   0.   0.   0.   0.   0.   0.   0.   0.   0.   0.   0.   0.   0.   0.   0.   0.   0.   0.   0.   0.   0.   0.   0.   0.  ]\n",
      " [0.   0.   0.   0.   0.   0.   0.   0.   0.   0.   0.   0.   0.   0.   0.   0.   0.   0.   0.   0.   0.   0.   0.   0.   0.   0.   0.   0.  ]]\n"
     ]
    },
    {
     "data": {
      "image/png": "[encoded data removed]",
      "text/plain": [
       "<Figure size 432x288 with 1 Axes>"
      ]
     },
     "metadata": {
      "needs_background": "light"
     },
     "output_type": "display_data"
    }
   ],
   "source": [
    "# DISPLAY MNIST PICTURES, DATA ARRAYS, AND LABELS\n",
    "from IPython.display import clear_output\n",
    "from keyboard import wait\n",
    "\n",
    "for counter in range(10):\n",
    "    # loop over the picture data\n",
    "    pictureData = np.round(mnistData[0][0][counter]/255,2)\n",
    "\n",
    "    # plot the datapoints and their labels\n",
    "    print('The label is', mnistData[0][1][counter])\n",
    "    print(pictureData)\n",
    "\n",
    "    # plot the image\n",
    "    plt.imshow(pictureData, cmap='Greys')\n",
    "    plt.show()\n",
    "    \n",
    "    # wait until user presses 'q'\n",
    "    wait('q')\n",
    "    \n",
    "    # clear the input\n",
    "    clear_output(wait=True)"
   ]
  },
  {
   "cell_type": "code",
   "execution_count": 20,
   "metadata": {},
   "outputs": [
    {
     "data": {
      "text/plain": [
       "(28, 28)"
      ]
     },
     "execution_count": 20,
     "metadata": {},
     "output_type": "execute_result"
    }
   ],
   "source": [
    "# Let's check the shape of the pictureData\n",
    "pictureData.shape"
   ]
  },
  {
   "cell_type": "markdown",
   "metadata": {},
   "source": [
    "In order to compute distances between points for the $k$-nearest neighbor method, we need vectors rather than matrices, so we can **\"flatten\"** the rows into one long vector by using the reshape function, so we will do that before we start running the method."
   ]
  },
  {
   "cell_type": "code",
   "execution_count": 21,
   "metadata": {},
   "outputs": [
    {
     "name": "stdout",
     "output_type": "stream",
     "text": [
      "              precision    recall  f1-score   support\n",
      "\n",
      "           0       0.33      0.45      0.38        22\n",
      "           1       0.16      0.96      0.28        28\n",
      "           2       0.00      0.00      0.00        28\n",
      "           3       0.00      0.00      0.00        23\n",
      "           4       0.00      0.00      0.00        19\n",
      "           5       0.12      0.05      0.07        21\n",
      "           6       0.24      0.16      0.19        25\n",
      "           7       0.00      0.00      0.00        34\n",
      "           8       0.08      0.08      0.08        24\n",
      "           9       0.00      0.00      0.00        26\n",
      "\n",
      "    accuracy                           0.18       250\n",
      "   macro avg       0.09      0.17      0.10       250\n",
      "weighted avg       0.09      0.18      0.10       250\n",
      "\n"
     ]
    },
    {
     "name": "stderr",
     "output_type": "stream",
     "text": [
      "C:\\Users\\Ryan\\anaconda3\\envs\\DL\\lib\\site-packages\\sklearn\\metrics\\_classification.py:1221: UndefinedMetricWarning: Precision and F-score are ill-defined and being set to 0.0 in labels with no predicted samples. Use `zero_division` parameter to control this behavior.\n",
      "  _warn_prf(average, modifier, msg_start, len(result))\n"
     ]
    }
   ],
   "source": [
    "### CLASSIFY MNIST PICTURES\n",
    "\n",
    "# create a dataset of 1000 MNIST images, reshaped as single vectors, and labels\n",
    "\n",
    "# The datapoints are in mnistData[0][0]\n",
    "X = mnistData[0][0][:1000].reshape([1000,28*28])\n",
    "\n",
    "# The labels are in mnistData[0][1]\n",
    "Y = mnistData[0][1][:1000]\n",
    "\n",
    "# randomly choose 75% of the data to be the training set and 25% for the testing set\n",
    "(trainX, testX, trainY, testY) = train_test_split(X, Y, test_size = 0.25, random_state = 5)\n",
    "\n",
    "# fit the model to the training data\n",
    "model = kNearestNeighborClassifier(k = 5)\n",
    "model.fit(trainX,trainY)\n",
    "\n",
    "# print the classification performance\n",
    "print(classification_report(testY, model.predict(testX)))"
   ]
  },
  {
   "cell_type": "markdown",
   "metadata": {},
   "source": [
    "The accuracy is 0.18, which is pretty terrible, but it is better than random--we would expect accuracy of random classifications to be about 10%.\n",
    "\n",
    "(Disregard the error, it is simply saying no points were predicted to be in classes '2', '3', '4', '7', or '9', so this results in dividing by 0 in the precision and recall calculations.)\n",
    "\n",
    "To improve performance, there are a few changes we could make:\n",
    "\n",
    "1. Change $k$\n",
    "\n",
    "1. Normalize the data\n",
    "\n",
    "1. Use a different distance metric\n",
    "\n",
    "These are all **hyperparameters** we can **tune** to get a better fit. Tuning hyperparameters is a huge part of almost any machine learning task. \n",
    "\n",
    "Let's write a loop and find which $k$ gives the best accuracy."
   ]
  },
  {
   "cell_type": "code",
   "execution_count": 22,
   "metadata": {},
   "outputs": [
    {
     "name": "stdout",
     "output_type": "stream",
     "text": [
      "1 0.22\n",
      "2 0.212\n",
      "3 0.196\n",
      "4 0.188\n",
      "5 0.176\n",
      "6 0.184\n",
      "7 0.184\n",
      "8 0.18\n",
      "9 0.2\n",
      "10 0.196\n",
      "11 0.188\n",
      "12 0.192\n",
      "13 0.188\n",
      "14 0.184\n",
      "15 0.176\n",
      "16 0.176\n",
      "17 0.18\n",
      "18 0.18\n",
      "19 0.172\n",
      "[1, 0.22]\n"
     ]
    }
   ],
   "source": [
    "# Tuning the hyperparameter neighbors\n",
    "bestAccuracy = [0, 0]\n",
    "\n",
    "# loop over different values of neighbors\n",
    "for neighbors in range(1,20):\n",
    "    # fit the model to the training data\n",
    "    model = kNearestNeighborClassifier(k = neighbors)\n",
    "    model.fit(trainX,trainY)\n",
    "    \n",
    "    # measure the accuracy of the fit (much less information that classification_report gives)\n",
    "    accuracy = accuracy_score(testY, model.predict(testX))\n",
    "    print(neighbors, accuracy)\n",
    "    \n",
    "    # if we find better accuracy than ever before, save it\n",
    "    if accuracy > bestAccuracy[1]:\n",
    "        bestAccuracy = [neighbors, accuracy]\n",
    "        \n",
    "# print the k and the accuracy with the best results\n",
    "print(bestAccuracy)"
   ]
  },
  {
   "cell_type": "markdown",
   "metadata": {},
   "source": [
    "We improved the accuracy slightly to 0.22 by using $k=1$. We have tuned the hyperparameter $k$ to achieve better accuracy.\n",
    "\n",
    "This still is not very good, so let's try normalizing."
   ]
  },
  {
   "cell_type": "markdown",
   "metadata": {},
   "source": [
    "## Normalizing Data\n",
    "\n",
    "The idea of normalizing data can vary, but, in general, it simply means taking some data and changing the scale to some common scale we choose without distorting the differences ranges of the values.\n",
    "\n",
    "In this example, every datapoint $x$ has grayscale values between 0 and 255. If we want to re-scale it to be from 0 to 1, we simply divide the datapoints by 255, so let's try that."
   ]
  },
  {
   "cell_type": "code",
   "execution_count": 23,
   "metadata": {},
   "outputs": [
    {
     "name": "stdout",
     "output_type": "stream",
     "text": [
      "              precision    recall  f1-score   support\n",
      "\n",
      "           0       0.97      0.97      0.97        30\n",
      "           1       0.84      0.97      0.90        33\n",
      "           2       0.88      0.70      0.78        20\n",
      "           3       0.94      0.85      0.89        20\n",
      "           4       0.93      0.72      0.81        18\n",
      "           5       0.83      0.95      0.89        21\n",
      "           6       0.88      1.00      0.94        29\n",
      "           7       0.85      0.92      0.88        25\n",
      "           8       1.00      0.81      0.90        27\n",
      "           9       0.82      0.85      0.84        27\n",
      "\n",
      "    accuracy                           0.89       250\n",
      "   macro avg       0.89      0.87      0.88       250\n",
      "weighted avg       0.89      0.89      0.89       250\n",
      "\n"
     ]
    }
   ],
   "source": [
    "# randomly choose 75% of the data to be the training set and 25% for the testing set\n",
    "# the random_state=1 makes the code reproducible\n",
    "(trainX, testX, trainY, testY) = train_test_split(X, Y, test_size = 0.25, random_state = 3)\n",
    "\n",
    "# rescale the X values to be in [0,1]\n",
    "trainX = trainX/255.0\n",
    "testX = testX/255.0\n",
    "\n",
    "# fit the model to the training data\n",
    "model = kNearestNeighborClassifier(k = 1)\n",
    "model.fit(trainX,trainY)\n",
    "\n",
    "# print the classification performance\n",
    "print(classification_report(testY, model.predict(testX)))"
   ]
  },
  {
   "cell_type": "markdown",
   "metadata": {},
   "source": [
    "With normalized data, our accuracy leaps to 0.89! This might not be good enough to use the method for real handwriting recognition tasks, but it's pretty impressive given that we used such a simple classifier.\n",
    "\n",
    "Another way to normalize is to convert all the data from each pixel to have 0 mean and standard deviation 1 by subtracting the mean of each pixel value from the data and dividing by the standard deviation of the pixel values. We can use the standardize function from the preprocessing moddule of scikit-learn. Let's try this."
   ]
  },
  {
   "cell_type": "code",
   "execution_count": 24,
   "metadata": {},
   "outputs": [
    {
     "name": "stdout",
     "output_type": "stream",
     "text": [
      "              precision    recall  f1-score   support\n",
      "\n",
      "           0       0.88      0.96      0.92        23\n",
      "           1       0.90      1.00      0.95        43\n",
      "           2       0.79      0.65      0.71        17\n",
      "           3       0.89      0.93      0.91        27\n",
      "           4       0.74      0.85      0.79        20\n",
      "           5       0.88      0.81      0.84        26\n",
      "           6       0.92      0.88      0.90        26\n",
      "           7       0.86      0.67      0.75        27\n",
      "           8       0.83      0.71      0.77        21\n",
      "           9       0.67      0.80      0.73        20\n",
      "\n",
      "    accuracy                           0.84       250\n",
      "   macro avg       0.83      0.83      0.83       250\n",
      "weighted avg       0.85      0.84      0.84       250\n",
      "\n"
     ]
    }
   ],
   "source": [
    "from sklearn.preprocessing import scale\n",
    "\n",
    "# randomly choose 75% of the data to be the training set and 25% for the testing set\n",
    "# the random_state=1 makes the code reproducible\n",
    "(trainX, testX, trainY, testY) = train_test_split(X, Y, test_size = 0.25, random_state = 1)\n",
    "\n",
    "# for each dimension, subtract the mean value and divide by the standard deviation\n",
    "trainX = scale(trainX)\n",
    "testX = scale(testX)\n",
    "\n",
    "# fit the model to the training data\n",
    "model = kNearestNeighborClassifier(k = 1)\n",
    "model.fit(trainX,trainY)\n",
    "\n",
    "# print the classification performance\n",
    "print(classification_report(testY, model.predict(testX)))"
   ]
  },
  {
   "cell_type": "markdown",
   "metadata": {},
   "source": [
    "The accuracy here is a bit worse at 84%. While standardizing did not work as well as re-scaling the data to lie in [0,1], this may vary from problem to problem. Sometimes standardizing the data will do better.\n",
    "\n",
    "Let's see how an optimized implementation of $k$-nearest neighbors compares."
   ]
  },
  {
   "cell_type": "code",
   "execution_count": 25,
   "metadata": {},
   "outputs": [
    {
     "name": "stdout",
     "output_type": "stream",
     "text": [
      "              precision    recall  f1-score   support\n",
      "\n",
      "           0       0.85      1.00      0.92        23\n",
      "           1       0.81      1.00      0.90        43\n",
      "           2       0.71      0.59      0.65        17\n",
      "           3       0.83      0.89      0.86        27\n",
      "           4       0.75      0.90      0.82        20\n",
      "           5       1.00      0.77      0.87        26\n",
      "           6       0.96      0.88      0.92        26\n",
      "           7       0.76      0.59      0.67        27\n",
      "           8       0.89      0.76      0.82        21\n",
      "           9       0.75      0.75      0.75        20\n",
      "\n",
      "    accuracy                           0.83       250\n",
      "   macro avg       0.83      0.81      0.82       250\n",
      "weighted avg       0.84      0.83      0.83       250\n",
      "\n"
     ]
    }
   ],
   "source": [
    "# Confirming our results match scikit-learn\n",
    "from sklearn.neighbors import KNeighborsClassifier\n",
    "\n",
    "model = KNeighborsClassifier(n_neighbors = 3)\n",
    "\n",
    "model.fit(trainX,trainY)\n",
    "\n",
    "print(classification_report(testY, model.predict(testX)))"
   ]
  },
  {
   "cell_type": "markdown",
   "metadata": {},
   "source": [
    "Under these circumstances the widely used scikit-learn implementation performs slightly worse at 83% accuracy, although it is only 1% worse, which we may chalk up to random variation since we have randomly split the data into training and testing sets."
   ]
  },
  {
   "cell_type": "markdown",
   "metadata": {},
   "source": [
    "## The CIFAR-10 Dataset\n",
    "\n",
    "The CIFAR-10 dataset includes 60,000 colored images of size 32-by-32 pixels. Each pixel of the image has a red, a green, and a blue value, so the dimension of each image is 32 x 32 x 3 = 3072, where each RGB value of each pixel is a number between 0 and 255.\n",
    "\n",
    "The images are classified as one of 10 classes: airplane, automobile, bird, cat, deer, dog, frog, horse, ship, or truck.\n",
    "\n",
    "<img src=\"images/cifar10.png\" />\n",
    "\n",
    "By looking at some of the images, it should become clear that using an algorithm to classify this dataset should be significantly harder than classifying MNIST because there is much more variation in images within each class than in MNIST."
   ]
  },
  {
   "cell_type": "code",
   "execution_count": 29,
   "metadata": {},
   "outputs": [],
   "source": [
    "from tensorflow.keras.datasets import cifar10 \n",
    "\n",
    "cifarData = cifar10.load_data()\n",
    "\n",
    "# 1st index: training [0] and testing [1] data and labels\n",
    "# 2nd index: datapoints [0] and labels [1]\n",
    "# 3rd index: image from the set (0-49999) for training and (0-9999) for testing\n",
    "# 4th index: column of RGB triples for pixels in column (0-32)\n",
    "# 5th index: RGB triple for each pixel in column (0-32)\n",
    "# 6th index: R for pixel, G for pixel, B for pixel (0-2)"
   ]
  },
  {
   "cell_type": "code",
   "execution_count": 30,
   "metadata": {},
   "outputs": [
    {
     "name": "stdout",
     "output_type": "stream",
     "text": [
      "The label is [6]\n"
     ]
    },
    {
     "data": {
      "image/png": "[encoded data removed]",
      "text/plain": [
       "<Figure size 432x288 with 1 Axes>"
      ]
     },
     "metadata": {
      "needs_background": "light"
     },
     "output_type": "display_data"
    }
   ],
   "source": [
    "# DISPLAY CIFAR10 PICTURES\n",
    "for counter in range(20):\n",
    "    pictureData = cifarData[0][0][counter]\n",
    "    # plot the datapoints and their labels\n",
    "    print('The label is', cifarData[0][1][counter])\n",
    "    #print(pictureData)\n",
    "\n",
    "    # plot the image\n",
    "    plt.imshow(pictureData)\n",
    "    plt.show()\n",
    "    \n",
    "    # wait until user presses 'q'\n",
    "    wait('q')\n",
    "    \n",
    "    # clear the input\n",
    "    clear_output(wait=True)"
   ]
  },
  {
   "cell_type": "code",
   "execution_count": 31,
   "metadata": {},
   "outputs": [
    {
     "data": {
      "text/plain": [
       "(1000, 32, 32, 3)"
      ]
     },
     "execution_count": 31,
     "metadata": {},
     "output_type": "execute_result"
    }
   ],
   "source": [
    "cifarData[0][0][:1000].shape"
   ]
  },
  {
   "cell_type": "markdown",
   "metadata": {},
   "source": [
    "A question you need to answer for your homework: how do we get this 32 x 32 x 3 image into a single 1-row datapoint?"
   ]
  }
 ],
 "metadata": {
  "kernelspec": {
   "display_name": "Python 3 (ipykernel)",
   "language": "python",
   "name": "python3"
  },
  "language_info": {
   "codemirror_mode": {
    "name": "ipython",
    "version": 3
   },
   "file_extension": ".py",
   "mimetype": "text/x-python",
   "name": "python",
   "nbconvert_exporter": "python",
   "pygments_lexer": "ipython3",
   "version": "3.10.1"
  }
 },
 "nbformat": 4,
 "nbformat_minor": 4
}
